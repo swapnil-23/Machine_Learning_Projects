{
 "cells": [
  {
   "cell_type": "code",
   "execution_count": 15,
   "metadata": {},
   "outputs": [],
   "source": [
    "import tensorflow as tf\n",
    "from keras.preprocessing.image import ImageDataGenerator"
   ]
  },
  {
   "cell_type": "code",
   "execution_count": 18,
   "metadata": {},
   "outputs": [
    {
     "data": {
      "text/plain": [
       "'2.6.0'"
      ]
     },
     "execution_count": 18,
     "metadata": {},
     "output_type": "execute_result"
    }
   ],
   "source": [
    "tf.__version__"
   ]
  },
  {
   "cell_type": "code",
   "execution_count": 19,
   "metadata": {},
   "outputs": [
    {
     "name": "stdout",
     "output_type": "stream",
     "text": [
      "Found 8000 images belonging to 2 classes.\n"
     ]
    }
   ],
   "source": [
    "##PREPROCESSING THE TRAINING DATASET\n",
    "train_datagen = ImageDataGenerator(rescale = 1/.255,\n",
    "                                  shear_range = 0.2,\n",
    "                                  zoom_range = 0.2,\n",
    "                                  horizontal_flip = True)\n",
    "\n",
    "training_set = train_datagen.flow_from_directory('dataset/training_set',\n",
    "                                                target_size = (64,64),\n",
    "                                                batch_size = 32,\n",
    "                                                class_mode = 'binary')\n",
    "\n",
    "#rescale is the value by which we multiply the data before processing\n",
    "#zooming_range takes value in floating value in order to zoom the image\n",
    "#shear_range is to create or rectify the perce[tion angles since the image will be distored along an axis\n",
    "\n",
    "## types of class_mode are 'categorical' . 'binary' , 'sparse' , 'input' or None.\n",
    "###Default: \"categorical\". Determines the type of label arrays that are returned: - \"categorical\" will be 2D one-hot encoded labels, - \"binary\" will be 1D binary labels, \"sparse\" will be 1D integer labels, - \"input\" will be images identical to input images (mainly used to work with autoencoders). - If None, no labels are returned (the generator will only yield batches of image data, which is useful to use with model.predict_generator())."
   ]
  },
  {
   "cell_type": "code",
   "execution_count": 20,
   "metadata": {},
   "outputs": [
    {
     "name": "stdout",
     "output_type": "stream",
     "text": [
      "Found 2000 images belonging to 2 classes.\n"
     ]
    }
   ],
   "source": [
    "## PREPROCESSING THE TEST DATASET\n",
    "test_datagen = ImageDataGenerator(rescale = 1/.255)\n",
    "\n",
    "test_set = test_datagen.flow_from_directory('dataset/test_set',\n",
    "                                                target_size = (64,64),\n",
    "                                                batch_size = 32,\n",
    "                                                class_mode = 'binary')"
   ]
  },
  {
   "cell_type": "code",
   "execution_count": 21,
   "metadata": {},
   "outputs": [],
   "source": [
    "### INITIALISING THE CNN\n",
    "cnn = tf.keras.models.Sequential()"
   ]
  },
  {
   "cell_type": "code",
   "execution_count": 22,
   "metadata": {},
   "outputs": [],
   "source": [
    "## STEP1: CONVOLUTION\n",
    "cnn.add(tf.keras.layers.Conv2D(filters=32, kernel_size = 3 , activation = 'relu' , input_shape = [64,64,3]))\n",
    "\n",
    "## Mandatory Conv2D parameter is the numbers of filters that convolutional layers will learn from.\n",
    "## kernel sizze is the size of the feature detector that is being formed from the input image"
   ]
  },
  {
   "cell_type": "code",
   "execution_count": 23,
   "metadata": {},
   "outputs": [],
   "source": [
    "## STEP2 : PPOLING\n",
    "cnn.add(tf.keras.layers.MaxPool2D(pool_size = 2 , strides = 2))\n",
    "\n",
    "## pool_size: size of the pool frame which is used to find the maxium pooling features from the input image\n",
    "\n",
    "## stride is the component of CNN used for the compression of the image and video data // shofting of the frame in the input image to form the pooled image "
   ]
  },
  {
   "cell_type": "code",
   "execution_count": 24,
   "metadata": {},
   "outputs": [],
   "source": [
    "## ADDING CONVOLUTION LAYERS\n",
    "cnn.add(tf.keras.layers.Conv2D(filters = 32 , kernel_size = 3 , activation = 'relu'))\n",
    "cnn.add(tf.keras.layers.MaxPool2D(pool_size = 2 , strides = 2))"
   ]
  },
  {
   "cell_type": "code",
   "execution_count": 25,
   "metadata": {},
   "outputs": [],
   "source": [
    "## STEP3 : FLATTENING\n",
    "cnn.add(tf.keras.layers.Flatten())"
   ]
  },
  {
   "cell_type": "code",
   "execution_count": 26,
   "metadata": {},
   "outputs": [],
   "source": [
    "## STEP4 : FULL CONNECTION\n",
    "cnn.add(tf.keras.layers.Dense(units = 128 , activation = 'relu'))"
   ]
  },
  {
   "cell_type": "code",
   "execution_count": 27,
   "metadata": {},
   "outputs": [],
   "source": [
    "## STEP 5: OUTPUT LAYER\n",
    "cnn.add(tf.keras.layers.Dense(units = 1 , activation = 'sigmoid'))"
   ]
  },
  {
   "cell_type": "code",
   "execution_count": 28,
   "metadata": {},
   "outputs": [],
   "source": [
    "## COMPILING THE CNN\n",
    "cnn.compile(optimizer = 'adam' , loss = 'binary_crossentropy' , metrics = ['accuracy'])"
   ]
  },
  {
   "cell_type": "code",
   "execution_count": 29,
   "metadata": {},
   "outputs": [
    {
     "name": "stdout",
     "output_type": "stream",
     "text": [
      "Epoch 1/25\n",
      "250/250 [==============================] - 50s 201ms/step - loss: 13.9161 - accuracy: 0.5145 - val_loss: 0.6919 - val_accuracy: 0.5355\n",
      "Epoch 2/25\n",
      "250/250 [==============================] - 55s 219ms/step - loss: 0.6943 - accuracy: 0.5310 - val_loss: 0.6911 - val_accuracy: 0.5265\n",
      "Epoch 3/25\n",
      "250/250 [==============================] - 51s 202ms/step - loss: 0.6890 - accuracy: 0.5255 - val_loss: 0.6948 - val_accuracy: 0.5290\n",
      "Epoch 4/25\n",
      "250/250 [==============================] - 49s 198ms/step - loss: 0.6901 - accuracy: 0.5295 - val_loss: 0.6920 - val_accuracy: 0.5335\n",
      "Epoch 5/25\n",
      "250/250 [==============================] - 51s 203ms/step - loss: 0.6887 - accuracy: 0.5245 - val_loss: 0.7049 - val_accuracy: 0.5270\n",
      "Epoch 6/25\n",
      "250/250 [==============================] - 53s 212ms/step - loss: 0.6876 - accuracy: 0.5325 - val_loss: 0.6957 - val_accuracy: 0.5270\n",
      "Epoch 7/25\n",
      "250/250 [==============================] - 53s 214ms/step - loss: 0.6886 - accuracy: 0.5344 - val_loss: 0.6919 - val_accuracy: 0.5325\n",
      "Epoch 8/25\n",
      "250/250 [==============================] - 55s 220ms/step - loss: 0.6868 - accuracy: 0.5411 - val_loss: 0.6946 - val_accuracy: 0.5335\n",
      "Epoch 9/25\n",
      "250/250 [==============================] - 54s 217ms/step - loss: 0.6853 - accuracy: 0.5386 - val_loss: 0.6898 - val_accuracy: 0.5330\n",
      "Epoch 10/25\n",
      "250/250 [==============================] - 46s 183ms/step - loss: 0.6848 - accuracy: 0.5374 - val_loss: 0.6920 - val_accuracy: 0.5325\n",
      "Epoch 11/25\n",
      "250/250 [==============================] - 45s 178ms/step - loss: 0.6862 - accuracy: 0.5346 - val_loss: 0.7041 - val_accuracy: 0.5330\n",
      "Epoch 12/25\n",
      "250/250 [==============================] - 45s 178ms/step - loss: 0.6891 - accuracy: 0.5286 - val_loss: 0.7027 - val_accuracy: 0.5310\n",
      "Epoch 13/25\n",
      "250/250 [==============================] - 44s 178ms/step - loss: 0.6847 - accuracy: 0.5322 - val_loss: 0.7081 - val_accuracy: 0.5310\n",
      "Epoch 14/25\n",
      "250/250 [==============================] - 45s 179ms/step - loss: 0.6879 - accuracy: 0.5320 - val_loss: 0.6992 - val_accuracy: 0.5325\n",
      "Epoch 15/25\n",
      "250/250 [==============================] - 45s 182ms/step - loss: 0.6875 - accuracy: 0.5379 - val_loss: 0.6994 - val_accuracy: 0.5315\n",
      "Epoch 16/25\n",
      "250/250 [==============================] - 45s 178ms/step - loss: 0.6839 - accuracy: 0.5346 - val_loss: 0.6999 - val_accuracy: 0.5270\n",
      "Epoch 17/25\n",
      "250/250 [==============================] - 55s 222ms/step - loss: 0.6859 - accuracy: 0.5376 - val_loss: 0.7053 - val_accuracy: 0.5355\n",
      "Epoch 18/25\n",
      "250/250 [==============================] - 63s 251ms/step - loss: 0.6849 - accuracy: 0.5386 - val_loss: 0.6976 - val_accuracy: 0.5385\n",
      "Epoch 19/25\n",
      "250/250 [==============================] - 52s 210ms/step - loss: 0.6838 - accuracy: 0.5383 - val_loss: 0.6998 - val_accuracy: 0.5445\n",
      "Epoch 20/25\n",
      "250/250 [==============================] - 50s 200ms/step - loss: 0.6860 - accuracy: 0.5420 - val_loss: 0.6957 - val_accuracy: 0.5435\n",
      "Epoch 21/25\n",
      "250/250 [==============================] - 51s 204ms/step - loss: 0.6875 - accuracy: 0.5336 - val_loss: 0.6956 - val_accuracy: 0.5145\n",
      "Epoch 22/25\n",
      "250/250 [==============================] - 44s 178ms/step - loss: 0.6870 - accuracy: 0.5289 - val_loss: 0.6879 - val_accuracy: 0.5395\n",
      "Epoch 23/25\n",
      "250/250 [==============================] - 44s 177ms/step - loss: 0.6902 - accuracy: 0.5389 - val_loss: 0.6978 - val_accuracy: 0.5300\n",
      "Epoch 24/25\n",
      "250/250 [==============================] - 44s 176ms/step - loss: 0.6871 - accuracy: 0.5350 - val_loss: 0.6888 - val_accuracy: 0.5350\n",
      "Epoch 25/25\n",
      "250/250 [==============================] - 46s 185ms/step - loss: 0.6854 - accuracy: 0.5393 - val_loss: 0.6988 - val_accuracy: 0.5425\n"
     ]
    },
    {
     "data": {
      "text/plain": [
       "<keras.callbacks.History at 0x227aaa0c280>"
      ]
     },
     "execution_count": 29,
     "metadata": {},
     "output_type": "execute_result"
    }
   ],
   "source": [
    "##TRAINING THE CNN on the Training set and evaluate it on the Test Set\n",
    "cnn.fit(x = training_set , validation_data = test_set , epochs = 25)"
   ]
  },
  {
   "cell_type": "code",
   "execution_count": 37,
   "metadata": {},
   "outputs": [],
   "source": [
    "import numpy as np\n",
    "from keras.preprocessing import image\n",
    "test_image = image.load_img('dataset/single_prediction/cat_or_dog_2.jpg', target_size = (64, 64))\n",
    "test_image = image.img_to_array(test_image)\n",
    "test_image = np.expand_dims(test_image, axis = 0)\n",
    "result = cnn.predict(test_image)\n",
    "training_set.class_indices\n",
    "if result[0][0] == 1:\n",
    "  prediction = 'dog'\n",
    "else:\n",
    "  prediction = 'cat'"
   ]
  },
  {
   "cell_type": "code",
   "execution_count": 38,
   "metadata": {},
   "outputs": [
    {
     "name": "stdout",
     "output_type": "stream",
     "text": [
      "cat\n"
     ]
    }
   ],
   "source": [
    "print(prediction)"
   ]
  }
 ],
 "metadata": {
  "colab": {
   "authorship_tag": "ABX9TyPA7K2PAkEFgaKFIvslUMEc",
   "collapsed_sections": [],
   "machine_shape": "hm",
   "name": "random_forest_classification.ipynb",
   "provenance": [],
   "toc_visible": true
  },
  "kernelspec": {
   "display_name": "Python 3",
   "language": "python",
   "name": "python3"
  },
  "language_info": {
   "codemirror_mode": {
    "name": "ipython",
    "version": 3
   },
   "file_extension": ".py",
   "mimetype": "text/x-python",
   "name": "python",
   "nbconvert_exporter": "python",
   "pygments_lexer": "ipython3",
   "version": "3.8.3"
  }
 },
 "nbformat": 4,
 "nbformat_minor": 1
}

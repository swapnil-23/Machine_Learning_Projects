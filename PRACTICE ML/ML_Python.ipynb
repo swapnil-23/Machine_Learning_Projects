{
 "cells": [
  {
   "cell_type": "markdown",
   "metadata": {
    "id": "IomSNuuWyBNq"
   },
   "source": [
    "#Python Functions\n",
    "A function is a block of code which only runs when it is called.\n",
    "\n",
    "You can pass data, known as parameters, into a function.\n",
    "\n",
    "A function can return data as a result."
   ]
  },
  {
   "cell_type": "code",
   "execution_count": null,
   "metadata": {
    "colab": {
     "base_uri": "https://localhost:8080/"
    },
    "id": "93ssJ3uVxtmD",
    "outputId": "4ec2c7ef-3328-45e8-e0a0-25505a51dbb7"
   },
   "outputs": [
    {
     "name": "stdout",
     "output_type": "stream",
     "text": [
      "Hello from a function\n"
     ]
    }
   ],
   "source": [
    "#Function Defination\n",
    "def my_function():\n",
    "  print(\"Hello from a function\")\n",
    "#Function calling\n",
    "my_function()"
   ]
  },
  {
   "cell_type": "code",
   "execution_count": null,
   "metadata": {
    "id": "w4orfmshyFcd"
   },
   "outputs": [],
   "source": [
    "# Parameter #Arguments\n",
    "def my_function(fname):\n",
    "  print(fname + \" Kumar\")"
   ]
  },
  {
   "cell_type": "code",
   "execution_count": null,
   "metadata": {
    "colab": {
     "base_uri": "https://localhost:8080/"
    },
    "id": "QcWxztERAjjn",
    "outputId": "289c40a5-d807-492c-dec5-f3e40a27b4e7"
   },
   "outputs": [
    {
     "name": "stdout",
     "output_type": "stream",
     "text": [
      " Raj Kumar\n",
      "Akshay Kumar\n"
     ]
    }
   ],
   "source": [
    "my_function(\" Raj\")\n",
    "my_function(\"Akshay\")"
   ]
  },
  {
   "cell_type": "code",
   "execution_count": null,
   "metadata": {
    "colab": {
     "base_uri": "https://localhost:8080/"
    },
    "id": "sKUyGo1jyvbj",
    "outputId": "a4a9a417-023e-474a-bd6a-0860687e0d8a"
   },
   "outputs": [
    {
     "name": "stdout",
     "output_type": "stream",
     "text": [
      "Subash Chandra Bose\n"
     ]
    }
   ],
   "source": [
    "#Number of Arguments\n",
    "def my_function(fname, lname):\n",
    "  print(fname + \" \" + lname)\n",
    "\n",
    "my_function(\"Subash Chandra\", \"Bose\")"
   ]
  },
  {
   "cell_type": "code",
   "execution_count": null,
   "metadata": {
    "colab": {
     "base_uri": "https://localhost:8080/"
    },
    "id": "EpRAM7KYzIKr",
    "outputId": "402a869d-fba4-4377-d555-b1fba6325d55"
   },
   "outputs": [
    {
     "name": "stdout",
     "output_type": "stream",
     "text": [
      "Netaji Subash Chandra Bose\n"
     ]
    }
   ],
   "source": [
    "#Number of Arguments\n",
    "def my_function(fname, mname, lname):\n",
    "  print(fname + \" \"+ mname +\" \" +lname)\n",
    "\n",
    "my_function(\"Netaji\",\"Subash Chandra\", \"Bose\")"
   ]
  },
  {
   "cell_type": "code",
   "execution_count": null,
   "metadata": {
    "colab": {
     "base_uri": "https://localhost:8080/"
    },
    "id": "GKZnWJbM6gE8",
    "outputId": "805413bd-f0b4-49ae-b909-db48ea664b8d"
   },
   "outputs": [
    {
     "name": "stdout",
     "output_type": "stream",
     "text": [
      "The youngest child is lakshman\n"
     ]
    }
   ],
   "source": [
    "#Arbitrary Arguments, *args\n",
    "#If you do not know how many arguments that will be passed into your function, add a * before \n",
    "#the parameter name in the function definition.\n",
    "#the arguments or paramters present inside called function paranthesis: formal arguments\n",
    "def my_function(*kids):\n",
    "  print(\"The youngest child is \" + kids[2])\n",
    "#the arguments or paramters present inside calling function paranthesis: actual arguments\n",
    "my_function(\"Ram\", \"Mohan\", \"lakshman\")"
   ]
  },
  {
   "cell_type": "code",
   "execution_count": null,
   "metadata": {
    "colab": {
     "base_uri": "https://localhost:8080/"
    },
    "id": "KIBxRK7u6u3Z",
    "outputId": "667e7333-c768-4478-8c52-19c149056163"
   },
   "outputs": [
    {
     "name": "stdout",
     "output_type": "stream",
     "text": [
      "The youngest child is lakshman\n"
     ]
    }
   ],
   "source": [
    "#Keyword Arguments: You can also send arguments with the key = value syntax.\n",
    "def my_function(child2, child3, child1):\n",
    "  print(\"The youngest child is \" + child3)\n",
    "my_function(child1 = \"Ram\", child2 = \"Mohan\", child3 = \"lakshman\")"
   ]
  },
  {
   "cell_type": "code",
   "execution_count": null,
   "metadata": {
    "colab": {
     "base_uri": "https://localhost:8080/"
    },
    "id": "nAL6QsMA7Dwg",
    "outputId": "84b23660-cfc6-4516-ebe1-9fe95304c165"
   },
   "outputs": [
    {
     "name": "stdout",
     "output_type": "stream",
     "text": [
      "His last name is Mohan\n"
     ]
    }
   ],
   "source": [
    "#Arbitrary Keyword Arguments, **kwargs\n",
    "#If you do not know how many keyword arguments that will be passed into your function, \n",
    "#add two asterisk: ** before the parameter name in the function definition.\n",
    "def my_function(**kid):\n",
    "  print(\"His last name is \" + kid[\"lname\"])\n",
    "\n",
    "my_function(fname = \"Ram\", lname = \"Mohan\")"
   ]
  },
  {
   "cell_type": "code",
   "execution_count": null,
   "metadata": {
    "id": "QVUtY4Nc7Q3z"
   },
   "outputs": [],
   "source": [
    "#Default Parameter Value\n",
    "def my_function(country = \"India\"):\n",
    "    print(\"I am from \" + country)"
   ]
  },
  {
   "cell_type": "code",
   "execution_count": null,
   "metadata": {
    "colab": {
     "base_uri": "https://localhost:8080/"
    },
    "id": "gic8-wA4IkZF",
    "outputId": "ab3b4ec1-1d57-4253-b742-e671e1a07ac6"
   },
   "outputs": [
    {
     "name": "stdout",
     "output_type": "stream",
     "text": [
      "I am from US\n",
      "I am from UK\n",
      "I am from India\n",
      "I am from Brazil\n"
     ]
    }
   ],
   "source": [
    "my_function(\"US\")\n",
    "my_function(\"UK\")\n",
    "my_function() #If we call the function without argument, it uses the default value:\n",
    "my_function(\"Brazil\")"
   ]
  },
  {
   "cell_type": "code",
   "execution_count": null,
   "metadata": {
    "colab": {
     "base_uri": "https://localhost:8080/"
    },
    "id": "AG5avbeq7hj_",
    "outputId": "2808564a-78d3-4dcd-e187-059f23079fa7"
   },
   "outputs": [
    {
     "name": "stdout",
     "output_type": "stream",
     "text": [
      "apple\n",
      "banana\n",
      "cherry\n"
     ]
    }
   ],
   "source": [
    "#Passing a List as an Argument\n",
    "def my_function(fooditems):\n",
    "  for x in fooditems:\n",
    "    print(x)\n",
    "\n",
    "fruits = [\"apple\", \"banana\", \"cherry\"]\n",
    "\n",
    "my_function(fruits)\n"
   ]
  },
  {
   "cell_type": "code",
   "execution_count": null,
   "metadata": {
    "colab": {
     "base_uri": "https://localhost:8080/"
    },
    "id": "4r5qbhfZ7uQP",
    "outputId": "3edac12d-c0dc-4262-e9af-69b78b086327"
   },
   "outputs": [
    {
     "name": "stdout",
     "output_type": "stream",
     "text": [
      "15\n",
      "25\n",
      "45\n"
     ]
    }
   ],
   "source": [
    "#Return Values\n",
    "def my_function(x):\n",
    "  return 5 * x\n",
    "\n",
    "print(my_function(3))\n",
    "print(my_function(5))\n",
    "print(my_function(9))"
   ]
  },
  {
   "cell_type": "code",
   "execution_count": null,
   "metadata": {
    "id": "iKO0TmLU76lh"
   },
   "outputs": [],
   "source": [
    "#The pass Statement:function definitions cannot be empty, but if you \n",
    "#for some reason have a function definition with no content, put in the pass statement to avoid getting an error.\n",
    "def myfunction():\n",
    "  pass\n",
    "  "
   ]
  },
  {
   "cell_type": "code",
   "execution_count": null,
   "metadata": {
    "colab": {
     "base_uri": "https://localhost:8080/"
    },
    "id": "26ZM5XF68SWH",
    "outputId": "e3a7ecfc-d6f9-4b45-80eb-744ac234b308"
   },
   "outputs": [
    {
     "name": "stdout",
     "output_type": "stream",
     "text": [
      "\n",
      "\n",
      "Recursion Example Results\n",
      "1\n",
      "3\n",
      "6\n",
      "10\n",
      "15\n",
      "21\n"
     ]
    },
    {
     "data": {
      "text/plain": [
       "21"
      ]
     },
     "execution_count": 36,
     "metadata": {},
     "output_type": "execute_result"
    }
   ],
   "source": [
    "#Recursion tri_recursion() is a function which decrements (-1) every time we recurse.\n",
    "#Python also accepts function recursion, which means a defined function can call itself.\n",
    "#Recursion is a common mathematical and programming concept. It means that a function calls itself. \n",
    "#This has the benefit of meaning that you can loop through data to reach a result.\n",
    "def tri_recursion(k):\n",
    "  if(k > 0):\n",
    "    result = k + tri_recursion(k - 1)\n",
    "    print(result)\n",
    "  else:\n",
    "    result = 0\n",
    "  return result\n",
    "\n",
    "print(\"\\n\\nRecursion Example Results\")\n",
    "tri_recursion(6)"
   ]
  },
  {
   "cell_type": "markdown",
   "metadata": {
    "id": "qpHWg_SmDHhL"
   },
   "source": [
    "#Python Lambda"
   ]
  },
  {
   "cell_type": "code",
   "execution_count": null,
   "metadata": {
    "colab": {
     "base_uri": "https://localhost:8080/"
    },
    "id": "FjUcDwN7iQ6d",
    "outputId": "ede8675c-b4d7-4122-8c91-4ee5abf64351"
   },
   "outputs": [
    {
     "name": "stdout",
     "output_type": "stream",
     "text": [
      "15\n"
     ]
    }
   ],
   "source": [
    "def add(a):\n",
    "  return a+10\n",
    "print(add(5))"
   ]
  },
  {
   "cell_type": "code",
   "execution_count": null,
   "metadata": {
    "colab": {
     "base_uri": "https://localhost:8080/"
    },
    "id": "VOsCCqtXDJJ8",
    "outputId": "1371c8fa-1d01-4a77-a7e7-a6f02f0a29e1"
   },
   "outputs": [
    {
     "name": "stdout",
     "output_type": "stream",
     "text": [
      "15\n"
     ]
    }
   ],
   "source": [
    "#A lambda function is a small anonymous function.\n",
    "#A lambda function can take any number of arguments, but can only have one expression.\n",
    "#syntax  lambda arguments : expression\n",
    "add = lambda a: a + 10\n",
    "print(add(5))"
   ]
  },
  {
   "cell_type": "code",
   "execution_count": null,
   "metadata": {
    "colab": {
     "base_uri": "https://localhost:8080/"
    },
    "id": "t17M4GxKEPvh",
    "outputId": "f50bb02b-e71f-4185-bd9a-e188dad58966"
   },
   "outputs": [
    {
     "name": "stdout",
     "output_type": "stream",
     "text": [
      "30\n"
     ]
    }
   ],
   "source": [
    "#More Arguments\n",
    "x = lambda a, b: a * b\n",
    "print(x(5, 6))"
   ]
  },
  {
   "cell_type": "code",
   "execution_count": null,
   "metadata": {
    "colab": {
     "base_uri": "https://localhost:8080/"
    },
    "id": "0rmsgGf_EUQe",
    "outputId": "512bb0bf-3760-478f-f129-192b2cca54d6"
   },
   "outputs": [
    {
     "name": "stdout",
     "output_type": "stream",
     "text": [
      "13\n"
     ]
    }
   ],
   "source": [
    "x = lambda a, b, c: a + b + c\n",
    "print(x(5, 6, 2))"
   ]
  },
  {
   "cell_type": "code",
   "execution_count": null,
   "metadata": {
    "colab": {
     "base_uri": "https://localhost:8080/"
    },
    "id": "q4MLvt0OEtBW",
    "outputId": "1b7a721f-e217-4951-ba1e-aca9e5c84c5d"
   },
   "outputs": [
    {
     "name": "stdout",
     "output_type": "stream",
     "text": [
      "22\n"
     ]
    }
   ],
   "source": [
    "#Why Use Lambda Functions?\n",
    "#The power of lambda is better shown when you use \n",
    "#them as an anonymous function inside another function.\n",
    "#Say you have a function definition that takes one argument, and \n",
    "#that argument will be multiplied with an unknown number:\n",
    "def myfunc(n):\n",
    " \n",
    " return lambda a : a * n\n",
    "mydoubler = myfunc(2)\n",
    "\n",
    "print(mydoubler(11))"
   ]
  },
  {
   "cell_type": "code",
   "execution_count": null,
   "metadata": {
    "colab": {
     "base_uri": "https://localhost:8080/"
    },
    "id": "KCnbereckq_5",
    "outputId": "e33c5706-1950-490e-8cfb-fbead32f9ee8"
   },
   "outputs": [
    {
     "name": "stdout",
     "output_type": "stream",
     "text": [
      "33\n"
     ]
    }
   ],
   "source": [
    "#Or, use the same function definition to make a function that always triples the number you send in:\n",
    "\n",
    "\n",
    "def myfunc(n):\n",
    "  return lambda a : a * n\n",
    "\n",
    "mytripler = myfunc(3)\n",
    "\n",
    "print(mytripler(11))"
   ]
  },
  {
   "cell_type": "code",
   "execution_count": null,
   "metadata": {
    "colab": {
     "base_uri": "https://localhost:8080/"
    },
    "id": "R3XFzZ5_lOH9",
    "outputId": "846874ab-de1f-443b-aa19-fee22e52d3b7"
   },
   "outputs": [
    {
     "name": "stdout",
     "output_type": "stream",
     "text": [
      "22\n",
      "33\n"
     ]
    }
   ],
   "source": [
    "def myfunc(n):\n",
    "  return lambda a : a * n\n",
    "\n",
    "mydoubler = myfunc(2)\n",
    "mytripler = myfunc(3)\n",
    "\n",
    "print(mydoubler(11))\n",
    "print(mytripler(11))\n",
    "\n"
   ]
  },
  {
   "cell_type": "markdown",
   "metadata": {
    "id": "B96vsR_zzK-F"
   },
   "source": [
    "#File Handling\n",
    "The key function for working with files in Python is the open() function.\n",
    "\n",
    "The open() function takes two parameters; filename, and mode.\n",
    "\n",
    "There are four different methods (modes) for opening a file:"
   ]
  },
  {
   "cell_type": "code",
   "execution_count": null,
   "metadata": {
    "colab": {
     "base_uri": "https://localhost:8080/"
    },
    "id": "w5whtJmNzUkI",
    "outputId": "cffd532c-fbfe-45af-b90a-537b3616cf5f"
   },
   "outputs": [
    {
     "name": "stdout",
     "output_type": "stream",
     "text": [
      "Hello! Welcome to demofile.txt\n",
      "This file is for testing purposes.\n",
      "Good Luck!\n"
     ]
    }
   ],
   "source": [
    "#\"r\" - Read - Default value. Opens a file for reading, error if the file does not exist\n",
    "\n",
    "#\"a\" - Append - Opens a file for appending, creates the file if it does not exist\n",
    "\n",
    "#\"w\" - Write - Opens a file for writing, creates the file if it does not exist\n",
    "\n",
    "#\"x\" - Create - Creates the specified file, returns an error if the file exists\n",
    "\n",
    "f = open(\"/content/demo.txt\")\n",
    "print(f.read())\n",
    "\n",
    "#To open the file, use the built-in open() function.\n",
    "\n",
    "#The open() function returns a file object, which has a read() method for reading the content of the file:"
   ]
  },
  {
   "cell_type": "code",
   "execution_count": null,
   "metadata": {
    "colab": {
     "base_uri": "https://localhost:8080/"
    },
    "id": "07IlH4bT2DV-",
    "outputId": "8b49120d-1d9c-4c10-b9d2-6763e317432b"
   },
   "outputs": [
    {
     "name": "stdout",
     "output_type": "stream",
     "text": [
      "Hello\n"
     ]
    }
   ],
   "source": [
    "#By default the read() method returns the whole text, \n",
    "#but you can also specify how many characters you want to return:\n",
    "f = open(\"/content/demo.txt\", \"r\")\n",
    "print(f.read(5))"
   ]
  },
  {
   "cell_type": "code",
   "execution_count": null,
   "metadata": {
    "colab": {
     "base_uri": "https://localhost:8080/"
    },
    "id": "T2cDGxa8-5W7",
    "outputId": "94d530ed-6df5-429b-8dad-bd9de9c501fc"
   },
   "outputs": [
    {
     "name": "stdout",
     "output_type": "stream",
     "text": [
      "! Welcome \n",
      "to demofil\n"
     ]
    }
   ],
   "source": [
    "print(f.read(10))\n",
    "print(f.read(10))"
   ]
  },
  {
   "cell_type": "code",
   "execution_count": null,
   "metadata": {
    "colab": {
     "base_uri": "https://localhost:8080/"
    },
    "id": "Ezrdlrdx_Fvk",
    "outputId": "4fb269fe-80a1-4bde-b42d-9eb1692b74d7"
   },
   "outputs": [
    {
     "data": {
      "text/plain": [
       "25"
      ]
     },
     "execution_count": 48,
     "metadata": {},
     "output_type": "execute_result"
    }
   ],
   "source": [
    "# tell()  returns the current cursor location\n",
    "f.tell()"
   ]
  },
  {
   "cell_type": "code",
   "execution_count": null,
   "metadata": {
    "colab": {
     "base_uri": "https://localhost:8080/"
    },
    "id": "ePOlW3dJ_UXM",
    "outputId": "bf8db743-aab5-415a-9ef7-1e7e61dc0c7a"
   },
   "outputs": [
    {
     "name": "stdout",
     "output_type": "stream",
     "text": [
      "Hello\n"
     ]
    }
   ],
   "source": [
    "# seek() brings the cursor to specified location\n",
    "f.seek(0)\n",
    "print(f.read(5))"
   ]
  },
  {
   "cell_type": "code",
   "execution_count": null,
   "metadata": {
    "colab": {
     "base_uri": "https://localhost:8080/"
    },
    "id": "AorQsiOi2UnV",
    "outputId": "7ef47dbd-d7e7-4c8f-9015-4cdbfbc6c150"
   },
   "outputs": [
    {
     "name": "stdout",
     "output_type": "stream",
     "text": [
      "Hello! Welcome to demofile.txt\n",
      "\n"
     ]
    }
   ],
   "source": [
    "#You can return one line by using the readline() method:\n",
    "\n",
    "f = open(\"/content/demo.txt\", \"r\")\n",
    "print(f.readline())"
   ]
  },
  {
   "cell_type": "code",
   "execution_count": null,
   "metadata": {
    "colab": {
     "base_uri": "https://localhost:8080/"
    },
    "id": "R7C8DovR2sOP",
    "outputId": "fc77bbe7-2d56-4ef3-99ff-b6ed295f1ae3"
   },
   "outputs": [
    {
     "name": "stdout",
     "output_type": "stream",
     "text": [
      "Hello! Welcome to demofile.txt\n",
      "\n",
      "This file is for testing purposes.\n",
      "\n"
     ]
    }
   ],
   "source": [
    "#By calling readline() two times, you can read the two first lines:\n",
    "\n",
    "\n",
    "f = open(\"/content/demo.txt\", \"r\")\n",
    "print(f.readline())\n",
    "print(f.readline())"
   ]
  },
  {
   "cell_type": "code",
   "execution_count": null,
   "metadata": {
    "colab": {
     "base_uri": "https://localhost:8080/"
    },
    "id": "k4As4ai8AWW9",
    "outputId": "14276a20-c5ba-441e-fd5b-f4975bd1b4ca"
   },
   "outputs": [
    {
     "name": "stdout",
     "output_type": "stream",
     "text": [
      "['Hello! Welcome to demofile.txt\\n', 'This file is for testing purposes.\\n', 'Good Luck!']\n"
     ]
    }
   ],
   "source": [
    "#readlines method returns list of remaining lines of entire file\n",
    "f.seek(0)\n",
    "print(f.readlines())"
   ]
  },
  {
   "cell_type": "code",
   "execution_count": null,
   "metadata": {
    "colab": {
     "base_uri": "https://localhost:8080/"
    },
    "id": "M_K-VGQ02_5Q",
    "outputId": "bf05fd72-5809-4ef2-fcf6-04dd719d85ee"
   },
   "outputs": [
    {
     "name": "stdout",
     "output_type": "stream",
     "text": [
      "Hello! Welcome to demofile.txt\n",
      "\n",
      "This file is for testing purposes.\n",
      "\n",
      "Good Luck!\n"
     ]
    }
   ],
   "source": [
    "#By looping through the lines of the file, you can read the whole file, line by line:\n",
    "\n",
    "\n",
    "\n",
    "f = open(\"/content/demo.txt\", \"r\")\n",
    "for x in f:\n",
    "  print(x)"
   ]
  },
  {
   "cell_type": "code",
   "execution_count": null,
   "metadata": {
    "colab": {
     "base_uri": "https://localhost:8080/"
    },
    "id": "eyDTwUee3dFJ",
    "outputId": "35cb337d-99d9-497c-a8d0-8770c16363a0"
   },
   "outputs": [
    {
     "name": "stdout",
     "output_type": "stream",
     "text": [
      "Hello! Welcome to demofile.txt\n",
      "\n"
     ]
    }
   ],
   "source": [
    "#It is a good practice to always close the file when you are done with it.\n",
    "\n",
    "f = open(\"/content/demo.txt\", \"r\")\n",
    "print(f.readline())\n",
    "f.close()\n",
    "\n",
    "#Note: You should always close your files, in some cases, due to \n",
    "#buffering, changes made to a file may not show until you close the file."
   ]
  },
  {
   "cell_type": "markdown",
   "metadata": {
    "id": "ms16Rssr4gUo"
   },
   "source": [
    "#Write to an Existing File\n",
    "To write to an existing file, you must add a parameter to the open() function:\n",
    "\n",
    "\"a\" - Append - will append to the end of the file\n",
    "\n",
    "\"w\" - Write - will overwrite any existing content"
   ]
  },
  {
   "cell_type": "code",
   "execution_count": null,
   "metadata": {
    "colab": {
     "base_uri": "https://localhost:8080/"
    },
    "id": "PJFfl09_4opM",
    "outputId": "1948746a-5cad-46cc-e1b7-d25117e6b896"
   },
   "outputs": [
    {
     "name": "stdout",
     "output_type": "stream",
     "text": [
      "Hello! Welcome to demofile.txt\n",
      "This file is for testing purposes.\n",
      "Good Luck!Now the file has more content!\n"
     ]
    }
   ],
   "source": [
    "#Open the file \"demo1.txt\" and append content to the file:\n",
    "\n",
    "f = open(\"/content/demo1.txt\", \"a\")\n",
    "f.write(\"Now the file has more content!\")\n",
    "f.close()\n",
    "\n",
    "#open and read the file after the appending:\n",
    "f = open(\"/content/demo1.txt\", \"r\")\n",
    "print(f.read())"
   ]
  },
  {
   "cell_type": "code",
   "execution_count": null,
   "metadata": {
    "colab": {
     "base_uri": "https://localhost:8080/"
    },
    "id": "nQLTo0ka6kPI",
    "outputId": "ea3cdb87-b14d-4926-aee0-d8447e127806"
   },
   "outputs": [
    {
     "name": "stdout",
     "output_type": "stream",
     "text": [
      "Woops! I have deleted the content!\n"
     ]
    }
   ],
   "source": [
    "#Open the file \"demo1.txt\" and overwrite the content:\n",
    "\n",
    "f = open(\"/content/demo1.txt\", \"w\")\n",
    "f.write(\"Woops! I have deleted the content!\")\n",
    "f.close()\n",
    "\n",
    "#open and read the file after the appending:\n",
    "f = open(\"/content/demo1.txt\", \"r\")\n",
    "print(f.read())\n",
    "#Note: the \"w\" method will overwrite the entire file."
   ]
  },
  {
   "cell_type": "markdown",
   "metadata": {
    "id": "lg6G4Xm27Up5"
   },
   "source": [
    "#Create a New File\n",
    "To create a new file in Python, use the open() method, with one of the following parameters:\n",
    "\n",
    "\"x\" - Create - will create a file, returns an error if the file exist\n",
    "\n",
    "\"a\" - Append - will create a file if the specified file does not exist\n",
    "\n",
    "\"w\" - Write - will create a file if the specified file does not exist"
   ]
  },
  {
   "cell_type": "code",
   "execution_count": null,
   "metadata": {
    "colab": {
     "base_uri": "https://localhost:8080/",
     "height": 235
    },
    "id": "Z1S268ao7Wtq",
    "outputId": "532138e9-afcd-4260-c625-cf35ae212fe5"
   },
   "outputs": [
    {
     "ename": "FileExistsError",
     "evalue": "ignored",
     "output_type": "error",
     "traceback": [
      "\u001b[0;31m---------------------------------------------------------------------------\u001b[0m",
      "\u001b[0;31mFileExistsError\u001b[0m                           Traceback (most recent call last)",
      "\u001b[0;32m<ipython-input-59-9b74dc54fabf>\u001b[0m in \u001b[0;36m<module>\u001b[0;34m()\u001b[0m\n\u001b[1;32m      1\u001b[0m \u001b[0;31m#Create a file called \"myfile.txt\":\u001b[0m\u001b[0;34m\u001b[0m\u001b[0;34m\u001b[0m\u001b[0;34m\u001b[0m\u001b[0m\n\u001b[1;32m      2\u001b[0m \u001b[0;34m\u001b[0m\u001b[0m\n\u001b[0;32m----> 3\u001b[0;31m \u001b[0mf\u001b[0m \u001b[0;34m=\u001b[0m \u001b[0mopen\u001b[0m\u001b[0;34m(\u001b[0m\u001b[0;34m\"demo1.txt\"\u001b[0m\u001b[0;34m,\u001b[0m \u001b[0;34m\"x\"\u001b[0m\u001b[0;34m)\u001b[0m\u001b[0;34m\u001b[0m\u001b[0;34m\u001b[0m\u001b[0m\n\u001b[0m\u001b[1;32m      4\u001b[0m \u001b[0;34m\u001b[0m\u001b[0m\n\u001b[1;32m      5\u001b[0m \u001b[0;31m#Result: a new empty file is created!\u001b[0m\u001b[0;34m\u001b[0m\u001b[0;34m\u001b[0m\u001b[0;34m\u001b[0m\u001b[0m\n",
      "\u001b[0;31mFileExistsError\u001b[0m: [Errno 17] File exists: 'demo1.txt'"
     ]
    }
   ],
   "source": [
    "#Create a file called \"myfile.txt\":\n",
    "\n",
    "f = open(\"demo1.txt\", \"x\")\n",
    "\n",
    "#Result: a new empty file is created!"
   ]
  },
  {
   "cell_type": "code",
   "execution_count": null,
   "metadata": {
    "id": "UKDKSUId8Fxh"
   },
   "outputs": [],
   "source": [
    "#Create a new file if it does not exist:\n",
    "\n",
    "f = open(\"myfile.txt\", \"a\")"
   ]
  },
  {
   "cell_type": "code",
   "execution_count": null,
   "metadata": {
    "id": "YN0PvJO68eid"
   },
   "outputs": [],
   "source": [
    "#Create a new file if it does not exist:\n",
    "\n",
    "f = open(\"myfile.txt\", \"w\")"
   ]
  },
  {
   "cell_type": "markdown",
   "metadata": {
    "id": "mqcmvqt2_Mvn"
   },
   "source": [
    "#Delete a File\n",
    "To delete a file, you must import the OS module, and run its os.remove() function:"
   ]
  },
  {
   "cell_type": "code",
   "execution_count": null,
   "metadata": {
    "id": "k6ZCWDT4BOJs"
   },
   "outputs": [],
   "source": [
    "# Rename a file\n",
    "import os\n",
    "os.rename(\"demo.txt\" , \"sample.txt\")"
   ]
  },
  {
   "cell_type": "code",
   "execution_count": null,
   "metadata": {
    "colab": {
     "base_uri": "https://localhost:8080/"
    },
    "id": "88qJ_mZVBlD8",
    "outputId": "ef9519da-f800-4fd5-b01e-9206490b89ba"
   },
   "outputs": [
    {
     "data": {
      "text/plain": [
       "['Hello! Welcome to demofile.txt\\n',\n",
       " 'This file is for testing purposes.\\n',\n",
       " 'Good Luck!']"
      ]
     },
     "execution_count": 63,
     "metadata": {},
     "output_type": "execute_result"
    }
   ],
   "source": [
    "f = open(\"sample.txt\")\n",
    "f.readlines()"
   ]
  },
  {
   "cell_type": "code",
   "execution_count": null,
   "metadata": {
    "id": "7rdkH2uk_RTN"
   },
   "outputs": [],
   "source": [
    "#Remove the file \"demofile.txt\":\n",
    "\n",
    "import os\n",
    "os.remove(\"/content/myfile.txt\")"
   ]
  },
  {
   "cell_type": "markdown",
   "metadata": {
    "id": "9NbnxiWSAWXl"
   },
   "source": [
    "#Check if File exist:\n",
    "To avoid getting an error, you might want to check if the file exists before you try to delete it:"
   ]
  },
  {
   "cell_type": "code",
   "execution_count": null,
   "metadata": {
    "colab": {
     "base_uri": "https://localhost:8080/"
    },
    "id": "YTQEgjDpAfUm",
    "outputId": "3c64813b-d7e1-42e7-db2b-653a52f2aeb0"
   },
   "outputs": [
    {
     "name": "stdout",
     "output_type": "stream",
     "text": [
      "The file does not exist\n"
     ]
    }
   ],
   "source": [
    "#Check if file exists, then delete it:\n",
    "\n",
    "\n",
    "if os.path.exists(\"/content/car.csv\"):\n",
    "  os.remove(\"/content/car.csv\")\n",
    "else:\n",
    "  print(\"The file does not exist\")"
   ]
  },
  {
   "cell_type": "code",
   "execution_count": null,
   "metadata": {
    "colab": {
     "base_uri": "https://localhost:8080/",
     "height": 35
    },
    "id": "WaiXR1-oB8pj",
    "outputId": "c90f7ea6-373c-4c40-f382-3d22e5e89fb5"
   },
   "outputs": [
    {
     "data": {
      "application/vnd.google.colaboratory.intrinsic+json": {
       "type": "string"
      },
      "text/plain": [
       "'/content'"
      ]
     },
     "execution_count": 67,
     "metadata": {},
     "output_type": "execute_result"
    }
   ],
   "source": [
    "os.getcwd()"
   ]
  },
  {
   "cell_type": "code",
   "execution_count": null,
   "metadata": {
    "id": "fVNanz8BY_xG"
   },
   "outputs": [],
   "source": []
  },
  {
   "cell_type": "markdown",
   "metadata": {
    "id": "oetAZCZiTSV-"
   },
   "source": [
    "# Python for Machine Learning"
   ]
  },
  {
   "cell_type": "markdown",
   "metadata": {
    "id": "QkCXFiwBFaPP"
   },
   "source": [
    "#Data Set\n",
    "In the mind of a computer, a data set is any collection of data. It can be anything from an array to a complete database.\n",
    "\n",
    "Example of an array:\n",
    "\n",
    "[99,86,87,88,111,86,103,87,94,78,77,85,86]"
   ]
  },
  {
   "cell_type": "code",
   "execution_count": null,
   "metadata": {
    "id": "VSB4Kx8FFUur"
   },
   "outputs": [],
   "source": [
    "#Machine Learning is making the computer learn from studying data and statistics.\n",
    "#Machine Learning is a step into the direction of artificial intelligence (AI).\n",
    "#Machine Learning is a program that analyses data and learns to predict the outcome.\n",
    "\n",
    "#Carname\tColor\t  Age\t  Speed\t  AutoPass\n",
    "#BMW\t    red\t    5\t    99\t      Y\n",
    "#Volvo\t  black\t  7\t    86\t      Y\n",
    "#VW\t      gray\t  8\t    87\t      N\n",
    "#VW\t      white\t  7\t    88\t      Y\n",
    "#Ford\t    white\t  2\t    111\t      Y\n",
    "#VW\t      white\t  17\t  86\t      Y\n",
    "#Tesla\t  red\t    2\t    103\t      Y\n",
    "#BMW\t    black\t  9\t    87\t      Y\n",
    "#Volvo\t  gray\t  4\t    94\t      N\n",
    "#Ford\t    white\t  11\t  78\t      N\n",
    "#Toyota\t  gray\t  12\t  77\t      N\n",
    "#VW\t      white\t  9\t    85\t      N\n",
    "#Toyota\t  blue\t  6\t    86\t      Y"
   ]
  },
  {
   "cell_type": "markdown",
   "metadata": {
    "id": "RimhL7SFpLDM"
   },
   "source": [
    "#Mean, Median, and Mode\n",
    "What can we learn from looking at a group of numbers?\n",
    "\n",
    "In Machine Learning (and in mathematics) there are often three values that interests us:\n",
    "\n",
    "Mean - The average value\n",
    "Median - The mid point value\n",
    "Mode - The most common value\n",
    "Example: We have registered the speed of 13 cars:"
   ]
  },
  {
   "cell_type": "code",
   "execution_count": null,
   "metadata": {
    "id": "gn9DOyXnXOE_"
   },
   "outputs": [],
   "source": [
    "def avg(l):\n",
    "  sum=0\n",
    "  count=0\n",
    "  for e in l:\n",
    "    sum=sum+e\n",
    "    count=count+1\n",
    "  avg=sum/count\n",
    "  print(avg)"
   ]
  },
  {
   "cell_type": "code",
   "execution_count": null,
   "metadata": {
    "colab": {
     "base_uri": "https://localhost:8080/"
    },
    "id": "kVvuuCx1YEeG",
    "outputId": "42965d5e-9f87-45be-c8fb-32f6d6685f15"
   },
   "outputs": [
    {
     "name": "stdout",
     "output_type": "stream",
     "text": [
      "89.76923076923077\n"
     ]
    }
   ],
   "source": [
    "speed = [99,86,87,88,111,86,103,87,94,78,77,85,86]\n",
    "avg(speed)"
   ]
  },
  {
   "cell_type": "code",
   "execution_count": null,
   "metadata": {
    "colab": {
     "base_uri": "https://localhost:8080/"
    },
    "id": "RS3NUy8YHyss",
    "outputId": "d7ecff8e-a89d-4fa1-b68c-923909be65b6"
   },
   "outputs": [
    {
     "name": "stdout",
     "output_type": "stream",
     "text": [
      "89.76923076923077\n"
     ]
    }
   ],
   "source": [
    "#Mean\n",
    "import numpy\n",
    "speed = [99,86,87,88,111,86,103,87,94,78,77,85,86]\n",
    "x = numpy.mean(speed)\n",
    "print(x)"
   ]
  },
  {
   "cell_type": "code",
   "execution_count": null,
   "metadata": {
    "colab": {
     "base_uri": "https://localhost:8080/"
    },
    "id": "yvqOhV-aIBJb",
    "outputId": "9a05a9e1-85bb-4c37-abca-167e34bc025a"
   },
   "outputs": [
    {
     "name": "stdout",
     "output_type": "stream",
     "text": [
      "87.0\n"
     ]
    }
   ],
   "source": [
    "#Median\n",
    "import numpy\n",
    "speed = [99,86,87,88,111,86,103,87,94,78,77,85,86]\n",
    "x = numpy.median(speed)\n",
    "print(x)\n"
   ]
  },
  {
   "cell_type": "code",
   "execution_count": null,
   "metadata": {
    "colab": {
     "base_uri": "https://localhost:8080/"
    },
    "id": "MuPGDew9IVTP",
    "outputId": "4522ce50-781e-410f-eadc-bb2ac5b29b89"
   },
   "outputs": [
    {
     "name": "stdout",
     "output_type": "stream",
     "text": [
      "ModeResult(mode=array([86]), count=array([3]))\n"
     ]
    }
   ],
   "source": [
    "#Mode\n",
    "from scipy import stats\n",
    "speed = [99,86,87,88,111,86,103,87,94,78,77,85,86]\n",
    "x = stats.mode(speed)\n",
    "print(x)"
   ]
  },
  {
   "cell_type": "markdown",
   "metadata": {
    "id": "IEmxMZT-q3IL"
   },
   "source": [
    "#What is Standard Deviation?\n",
    "Standard deviation is a number that describes how spread out the values are.\n",
    "\n",
    "A low standard deviation means that most of the numbers are close to the mean (average) value.\n",
    "\n",
    "A high standard deviation means that the values are spread out over a wider range.\n",
    "\n",
    "Example: This time we have registered the speed of 7 cars:"
   ]
  },
  {
   "cell_type": "code",
   "execution_count": null,
   "metadata": {
    "colab": {
     "base_uri": "https://localhost:8080/"
    },
    "id": "TtD3GH0iIvfD",
    "outputId": "d7c1b048-18b0-4235-9ffa-dc926f9f0594"
   },
   "outputs": [
    {
     "name": "stdout",
     "output_type": "stream",
     "text": [
      "0.9035079029052513\n"
     ]
    }
   ],
   "source": [
    "#Standard Deviation\n",
    "#speed = [86,87,88,86,87,85,86]\n",
    "#The standard deviation is:0.9\n",
    "# Meaning that most of the values are within the range of 0.9 from the mean value, which is 86.4.\n",
    "import numpy\n",
    "speed = [86,87,88,86,87,85,86]\n",
    "x = numpy.std(speed)\n",
    "print(x)"
   ]
  },
  {
   "cell_type": "code",
   "execution_count": null,
   "metadata": {
    "colab": {
     "base_uri": "https://localhost:8080/"
    },
    "id": "AB8Zjmr9rn63",
    "outputId": "c73d7dd0-5f99-4165-d464-35a3d9606dcf"
   },
   "outputs": [
    {
     "name": "stdout",
     "output_type": "stream",
     "text": [
      "37.84501153334721\n",
      "77.42857142857143\n"
     ]
    }
   ],
   "source": [
    "import numpy\n",
    "speed = [32,111,138,28,59,77,97]\n",
    "x = numpy.std(speed)\n",
    "m = numpy.mean(speed)\n",
    "print(x)\n",
    "print(m)"
   ]
  },
  {
   "cell_type": "markdown",
   "metadata": {
    "id": "KDnsXLtgsgLp"
   },
   "source": [
    "#Variance\n",
    "Variance is another number that indicates how spread out the values are.\n",
    "\n",
    "In fact, if you take the square root of the variance, you get the standard deviation!\n",
    "\n",
    "Or the other way around, if you multiply the standard deviation by itself, you get the variance!\n",
    "\n",
    "To calculate the variance you have to do as follows:"
   ]
  },
  {
   "cell_type": "code",
   "execution_count": null,
   "metadata": {
    "id": "ZQB7zxLlsiU2"
   },
   "outputs": [],
   "source": [
    "#1. Find the mean:\n",
    "\n",
    "(32+111+138+28+59+77+97) / 7 = 77.4\n",
    "\n",
    "\n",
    "#2. For each value: find the difference from the mean:\n",
    "\n",
    " 32 - 77.4 = -45.4\n",
    "111 - 77.4 =  33.6\n",
    "138 - 77.4 =  60.6\n",
    " 28 - 77.4 = -49.4\n",
    " 59 - 77.4 = -18.4\n",
    " 77 - 77.4 = - 0.4\n",
    " 97 - 77.4 =  19.6\n",
    "\n",
    "\n",
    "#3. For each difference: find the square value:\n",
    "\n",
    "(-45.4)2 = 2061.16\n",
    " (33.6)2 = 1128.96\n",
    " (60.6)2 = 3672.36\n",
    "(-49.4)2 = 2440.36\n",
    "(-18.4)2 =  338.56\n",
    "(- 0.4)2 =    0.16\n",
    " (19.6)2 =  384.16\n",
    "\n",
    " #4 The variance is the average number of these squared differences:\n",
    "\n",
    "(2061.16+1128.96+3672.36+2440.36+338.56+0.16+384.16) / 7 = 1432.2"
   ]
  },
  {
   "cell_type": "code",
   "execution_count": null,
   "metadata": {
    "colab": {
     "base_uri": "https://localhost:8080/"
    },
    "id": "tmO89pVEJXP2",
    "outputId": "50d3bba8-89c8-4510-a87b-e06edf461859"
   },
   "outputs": [
    {
     "name": "stdout",
     "output_type": "stream",
     "text": [
      "1432.2448979591834\n"
     ]
    }
   ],
   "source": [
    "#Variance is another number that indicates how spread out the values are.\n",
    "import numpy\n",
    "speed = [32,111,138,28,59,77,97]\n",
    "x = numpy.var(speed)\n",
    "print(x)"
   ]
  },
  {
   "cell_type": "code",
   "execution_count": null,
   "metadata": {
    "id": "WDCTZEdutreH"
   },
   "outputs": [],
   "source": [
    "#As we have learned, the formula to find the standard deviation is the square root of the variance:\n",
    "\n",
    "√1432.25 = 37.85\n",
    "\n",
    "Standard Deviation is often represented by the symbol Sigma: σ\n",
    "\n",
    "Variance is often represented by the symbol Sigma Square: σ2"
   ]
  },
  {
   "cell_type": "code",
   "execution_count": null,
   "metadata": {
    "colab": {
     "base_uri": "https://localhost:8080/"
    },
    "id": "_3c8YPgFJpxk",
    "outputId": "62330bed-e2e2-4bab-b503-e8d0e82ba44e"
   },
   "outputs": [
    {
     "name": "stdout",
     "output_type": "stream",
     "text": [
      "37.84501153334721\n"
     ]
    }
   ],
   "source": [
    "#Standard deviation\n",
    "import numpy\n",
    "speed = [32,111,138,28,59,77,97]\n",
    "x = numpy.std(speed)\n",
    "print(x)"
   ]
  },
  {
   "cell_type": "code",
   "execution_count": null,
   "metadata": {
    "colab": {
     "base_uri": "https://localhost:8080/"
    },
    "id": "SffceU4sKFwF",
    "outputId": "88d21a3e-75f8-47ba-8ead-dfe0401f0819"
   },
   "outputs": [
    {
     "name": "stdout",
     "output_type": "stream",
     "text": [
      "48.0\n"
     ]
    }
   ],
   "source": [
    "#Percentile\n",
    "#Percentiles are used in statistics to give you a number that describes the value that a given percent of the values are lower than.\n",
    "\n",
    "#Example: Let's say we have an array of the ages of all the people that lives in a street.\n",
    "import numpy\n",
    "ages = [5,31,43,48,50,41,7,11,15,39,80,82,32,2,8,6,25,36,27,61,31]\n",
    "x = numpy.percentile(ages, 80)\n",
    "print(x)\n",
    "\n",
    "#What is the 75. percentile? The answer is 43, meaning that 75% of the people are 43 or younger."
   ]
  },
  {
   "cell_type": "code",
   "execution_count": null,
   "metadata": {
    "colab": {
     "base_uri": "https://localhost:8080/"
    },
    "id": "VHC2cilJKmjn",
    "outputId": "18636779-f354-4da4-ae48-b0614f372fb7"
   },
   "outputs": [
    {
     "name": "stdout",
     "output_type": "stream",
     "text": [
      "[4.16928965 0.36693752 3.45962235 2.42079741 4.58735736 0.28341598\n",
      " 2.87492539 0.74969492 4.41013931 3.10717648 4.77075463 3.09543485\n",
      " 2.58033556 4.46934831 3.86760294 0.72726365 1.76130321 1.79351568\n",
      " 4.46701209 2.10193543 3.30684673 3.09943521 2.42715353 0.05453465\n",
      " 2.84570182 4.39260813 2.46037136 1.13612415 2.52739137 4.65723135\n",
      " 4.38466772 4.84753207 0.2124751  1.8868148  3.09865641 1.74442678\n",
      " 0.8845235  2.51497542 2.29948095 3.13601378 0.0768262  4.4671121\n",
      " 2.34987229 3.70099662 3.87602063 0.96433532 2.42308174 4.81870531\n",
      " 1.59570448 2.05611113 3.52374001 2.83462959 1.64097791 4.12746479\n",
      " 4.46107416 1.69557417 0.64214774 1.39959876 3.63752393 4.23988516\n",
      " 3.02366877 4.63250144 3.39237366 1.29987287 0.72493407 1.4917076\n",
      " 0.46023035 1.66520998 4.74134613 3.07490231 1.85020652 3.46927609\n",
      " 3.32985134 4.01333529 0.06438138 4.78827539 1.80511706 2.60535048\n",
      " 1.20319092 1.91835137 1.35439429 2.38247999 1.87792858 4.88517737\n",
      " 1.31837712 1.46767158 3.34550048 4.74571632 1.36010661 4.0483544\n",
      " 3.31388529 0.97743845 1.11510708 4.42915927 3.13205728 2.94086962\n",
      " 2.68248333 0.36435757 4.16906198 1.34623105 1.23535614 3.45987461\n",
      " 1.77224208 3.59933374 2.12813113 3.85082314 4.55689844 3.20886233\n",
      " 0.80758427 4.90930597 1.64638668 1.32355127 2.95636871 2.0045518\n",
      " 4.07615169 3.61970691 4.34607114 0.49446863 3.93814594 1.10882738\n",
      " 2.36858164 4.82561033 2.73825158 0.88316967 4.96892604 1.36511128\n",
      " 2.16129194 2.58264119 4.39136602 0.93468775 2.73298517 0.1412138\n",
      " 0.13018779 1.69731669 3.88070138 1.11779912 4.58595931 2.15314909\n",
      " 2.5330795  3.84667591 2.89489449 2.30545439 0.97657317 2.42945655\n",
      " 0.89546806 0.56308159 3.15066434 3.69669631 2.74362738 1.87847787\n",
      " 1.01195613 2.56415914 1.73583754 1.38675026 1.33349497 4.35203415\n",
      " 3.79381228 3.35606834 0.92699958 1.66164244 4.00600053 3.39365135\n",
      " 0.16023348 1.64292706 4.02297322 0.55353379 1.97906722 0.52920599\n",
      " 2.57352509 0.57657935 0.84889515 0.96572721 3.96329554 3.62816999\n",
      " 2.47782565 2.05531514 0.99847166 0.56049348 1.98266886 0.5194482\n",
      " 3.86073026 4.90222661 2.0490175  0.6221712  3.1689488  4.60652021\n",
      " 1.03972272 2.39709506 1.41662743 4.90200918 0.0057893  4.89783216\n",
      " 4.6092959  4.21179321 0.09332386 2.72659291 2.20483509 0.22898434\n",
      " 2.67817579 3.31913023 2.59391463 1.40936772 3.27400928 0.77704472\n",
      " 4.59827267 3.27613451 2.23752525 4.51040833 1.89837388 0.66646861\n",
      " 1.7025688  2.12070434 2.78354642 4.22498927 4.57351952 4.87368396\n",
      " 1.1184466  0.25185591 0.89480213 0.29250508 4.53703392 0.21714198\n",
      " 0.76528069 1.18111492 0.16717467 3.34797905 2.61790039 2.99593918\n",
      " 0.0213767  3.77374854 1.09619299 3.99631941 2.76949416 0.25059433\n",
      " 0.51920146 2.56219973 0.71909886 0.03242942 3.29081666 4.72011397\n",
      " 2.84985121 0.03778163 3.52080991 4.54870597 4.52307344 0.00907921\n",
      " 0.8936581  0.33565699 2.88327836 0.0628469 ]\n"
     ]
    }
   ],
   "source": [
    "#Data Distribution\n",
    "#To create big data sets for testing, we use the Python module NumPy,\n",
    " #which comes with a number of methods to create random data sets, of any size.\n",
    "\n",
    "\n",
    "#Create an array containing 250 random floats between 0 and 5:\n",
    "import numpy\n",
    "x = numpy.random.uniform(0.0, 5.0, 250)\n",
    "print(x)"
   ]
  },
  {
   "cell_type": "code",
   "execution_count": null,
   "metadata": {
    "colab": {
     "base_uri": "https://localhost:8080/",
     "height": 993
    },
    "id": "JfJK_xGpK7WW",
    "outputId": "78131add-fa85-49ae-feb7-7fca4578c231"
   },
   "outputs": [
    {
     "name": "stdout",
     "output_type": "stream",
     "text": [
      "[3.7409692  2.67488937 0.46020113 2.66518477 4.96826676 2.3534685\n",
      " 4.85652697 1.26305322 2.69616155 1.12319208 4.59954316 2.15995612\n",
      " 0.28570587 2.42255549 0.56936804 2.10544903 0.43208634 1.3577375\n",
      " 3.87546246 2.92578392 4.91152855 4.32843741 1.86232731 1.48481462\n",
      " 0.5495033  3.64123221 2.75899057 2.86582089 4.82829386 4.59055304\n",
      " 1.4642568  0.46285642 2.873506   3.09264616 2.26271955 4.81516674\n",
      " 4.71609159 3.1414161  3.82313384 2.72371984 3.81422121 2.42679258\n",
      " 3.82953312 2.36062953 4.75903846 4.76828952 0.07779751 3.51609508\n",
      " 3.47564462 3.02155497 4.87285878 0.47670173 0.21730909 0.2285922\n",
      " 3.1920358  2.30668905 0.2223403  1.66904741 4.61565462 4.20036026\n",
      " 3.01343727 3.624868   4.74365343 1.08694159 2.28492006 4.22816151\n",
      " 1.9325732  2.93032543 2.09438653 1.9444891  0.30514068 4.58376481\n",
      " 3.39677802 1.79978652 3.93713754 4.81642771 4.65211419 0.02952042\n",
      " 2.98545113 3.01558324 1.96549531 4.30206837 0.53546289 1.20398224\n",
      " 4.76637482 2.25019701 4.07340945 1.41363759 2.30707262 0.05844678\n",
      " 3.54701196 1.21026293 2.51797258 2.91513944 1.79799999 4.48866148\n",
      " 0.21656658 3.63899483 4.92695543 1.8073889  0.44081876 1.98100795\n",
      " 3.93209255 1.27905511 0.43832742 0.28960981 0.99765318 2.41795814\n",
      " 0.58583647 4.25596092 4.49349828 1.82038165 1.56779944 3.05847431\n",
      " 3.41561362 4.30037198 0.36425358 4.17298832 1.52143971 1.50844762\n",
      " 4.99614808 4.87531128 1.0321324  3.4514482  0.33510463 4.82053124\n",
      " 3.40473821 1.37700512 2.95888839 3.145878   0.89618092 0.84109233\n",
      " 3.78907588 0.64755967 3.08468905 1.84961229 4.82104255 1.40247005\n",
      " 3.86582644 1.88470686 3.79614032 2.30252886 3.55029758 1.92686559\n",
      " 1.53011231 2.16838843 2.8503601  1.5691581  0.68831619 2.07443269\n",
      " 1.26574651 1.49473621 1.827431   1.10036192 0.8650809  1.38486443\n",
      " 0.19899066 2.50264126 3.25779532 3.10528318 3.08586065 3.2508022\n",
      " 4.73158315 1.00398062 4.54687673 3.53457797 2.70158527 2.137104\n",
      " 3.17208511 2.3153061  1.46894613 3.15289567 0.32316698 3.79119258\n",
      " 1.25783969 2.16546139 4.97588614 2.22596421 3.65102229 2.09721184\n",
      " 4.87598826 1.8132301  3.28777469 4.25929741 1.2600625  4.01366356\n",
      " 4.14274523 1.07341597 2.01844218 4.54566825 2.09445682 4.18132633\n",
      " 1.15059761 2.36582497 1.50776683 1.26316887 1.65292983 1.32185248\n",
      " 1.85540762 4.28480461 1.78944933 0.31290935 3.06752799 0.88262337\n",
      " 2.03492006 2.62809727 1.94818036 0.86505109 3.8706886  0.22766874\n",
      " 2.66374093 2.45570018 3.36842113 2.80915808 1.64142685 2.46365886\n",
      " 1.83613249 2.78124454 4.89379761 4.5531221  4.92373601 0.36111906\n",
      " 2.95975735 1.37040439 3.66796658 4.90080202 1.36412194 3.52943349\n",
      " 1.29234849 0.22080152 1.6934148  0.59295788 4.16402952 3.07984758\n",
      " 1.74851006 1.85733415 3.75314064 3.58029362 2.18420772 1.4240622\n",
      " 2.34595965 3.83253847 3.6628773  2.33666968 0.99785492 3.00459128\n",
      " 1.68501978 3.25373993 3.08331948 1.38660521]\n"
     ]
    },
    {
     "data": {
      "image/png": "[encoded data removed]",
      "text/plain": [
       "<Figure size 432x288 with 1 Axes>"
      ]
     },
     "metadata": {
      "needs_background": "light"
     },
     "output_type": "display_data"
    }
   ],
   "source": [
    "#Histogram\n",
    "#To visualize the data set we can draw a histogram with the data we collected.\n",
    "\n",
    "#We will use the Python module Matplotlib to draw a histogram.\n",
    "\n",
    "import numpy\n",
    "import matplotlib.pyplot as plt\n",
    "\n",
    "x = numpy.random.uniform(0.0, 5.0, 250)\n",
    "print(x)\n",
    "plt.hist(x, 5)\n",
    "plt.show()"
   ]
  },
  {
   "cell_type": "markdown",
   "metadata": {
    "id": "yJOvPFZtxew4"
   },
   "source": [
    "#Normal Data Distribution\n",
    "\n",
    "In the previous example we learned how to create a completely random array, of a given size, and between two given values.\n",
    "\n",
    "In this example we will learn how to create an array where the values are concentrated around a given value.\n",
    "\n",
    "In probability theory this kind of data distribution is known as the normal data distribution, or the Gaussian data distribution, after the mathematician Carl Friedrich Gauss who came up with the formula of this data distribution."
   ]
  },
  {
   "cell_type": "code",
   "execution_count": null,
   "metadata": {
    "colab": {
     "base_uri": "https://localhost:8080/",
     "height": 265
    },
    "id": "TpFoaio3Lown",
    "outputId": "e345892e-e3e3-400e-82cb-68aed71cbfff"
   },
   "outputs": [
    {
     "data": {
      "image/png": "[encoded data removed]",
      "text/plain": [
       "<Figure size 432x288 with 1 Axes>"
      ]
     },
     "metadata": {
      "needs_background": "light"
     },
     "output_type": "display_data"
    }
   ],
   "source": [
    "#Normal Data Distribution\n",
    "import numpy\n",
    "import matplotlib.pyplot as plt\n",
    "#mean and std\n",
    "x = numpy.random.normal(5.0, 1.0, 100000)\n",
    "\n",
    "plt.hist(x, 100)\n",
    "plt.show()"
   ]
  },
  {
   "cell_type": "code",
   "execution_count": null,
   "metadata": {
    "colab": {
     "base_uri": "https://localhost:8080/",
     "height": 265
    },
    "id": "UE33H-gLNJQx",
    "outputId": "e5e733bc-a66a-4175-bff0-d920f0ba1e40"
   },
   "outputs": [
    {
     "data": {
      "image/png": "[encoded data removed]",
      "text/plain": [
       "<Figure size 432x288 with 1 Axes>"
      ]
     },
     "metadata": {
      "needs_background": "light"
     },
     "output_type": "display_data"
    }
   ],
   "source": [
    "#Scatter Plot\n",
    "#A scatter plot is a diagram where each value in the data set is represented by a dot\n",
    "# it needs two arrays of same length one for x-axis other for y-axis\n",
    "import matplotlib.pyplot as plt\n",
    "\n",
    "x = [5,7,8,7,2,17,2,9,4,11,12,9,6] # car age\n",
    "y = [99,86,87,88,111,86,103,87,94,78,77,85,86] # car speed\n",
    "\n",
    "plt.scatter(x, y)\n",
    "plt.show()"
   ]
  },
  {
   "cell_type": "markdown",
   "metadata": {
    "id": "wB_XfbkP7zwT"
   },
   "source": [
    "#Random Data Distributions\n",
    "In Machine Learning the data sets can contain thousands-, or even millions, of values.\n",
    "\n",
    "You might not have real world data when you are testing an algorithm, you might have to use randomly generated values.\n",
    "\n",
    "As we have learned in the previous chapter, the NumPy module can help us with that!\n",
    "\n",
    "Let us create two arrays that are both filled with 1000 random numbers from a normal data distribution.\n",
    "\n",
    "The first array will have the mean set to 5.0 with a standard deviation of 1.0.\n",
    "\n",
    "The second array will have the mean set to 10.0 with a standard deviation of 2.0:"
   ]
  },
  {
   "cell_type": "code",
   "execution_count": null,
   "metadata": {
    "colab": {
     "base_uri": "https://localhost:8080/",
     "height": 265
    },
    "id": "jg0zmZBGNela",
    "outputId": "28d60462-5987-4be1-d578-b94412f4dd52"
   },
   "outputs": [
    {
     "data": {
      "image/png": "[encoded data removed]",
      "text/plain": [
       "<Figure size 432x288 with 1 Axes>"
      ]
     },
     "metadata": {
      "needs_background": "light"
     },
     "output_type": "display_data"
    }
   ],
   "source": [
    "##Scatter Plot with random numbers\n",
    "import numpy\n",
    "import matplotlib.pyplot as plt\n",
    "\n",
    "x = numpy.random.normal(5.0, 1.0, 1000)\n",
    "y = numpy.random.normal(10.0, 2.0, 1000)\n",
    "\n",
    "plt.scatter(x, y)\n",
    "plt.show()"
   ]
  },
  {
   "cell_type": "code",
   "execution_count": null,
   "metadata": {
    "colab": {
     "base_uri": "https://localhost:8080/",
     "height": 265
    },
    "id": "1OHzCJN0TKj_",
    "outputId": "706cf8f8-b774-4394-c52a-5104da52a720"
   },
   "outputs": [
    {
     "data": {
      "image/png": "[encoded data removed]",
      "text/plain": [
       "<Figure size 432x288 with 1 Axes>"
      ]
     },
     "metadata": {
      "needs_background": "light"
     },
     "output_type": "display_data"
    }
   ],
   "source": [
    "#Regression\n",
    "#The term regression is used when you try to find the relationship between variables.\n",
    "#In Machine Learning, and in statistical modeling, that relationship is used to predict the outcome of future events.\n",
    "#Linear Regression\n",
    "#Linear regression uses the relationship between the data-points to draw a straight line through all them.\n",
    "\n",
    "import matplotlib.pyplot as plt\n",
    "x = [5,7,8,7,2,17,2,9,4,11,12,9,6]\n",
    "y = [99,86,87,88,111,86,103,87,94,78,77,85,86]\n",
    "\n",
    "plt.scatter(x, y)\n",
    "plt.show()"
   ]
  },
  {
   "cell_type": "code",
   "execution_count": 5,
   "metadata": {
    "colab": {
     "base_uri": "https://localhost:8080/",
     "height": 265
    },
    "id": "0cGZ4pbmT-3T",
    "outputId": "9c5d522a-e1ef-40cf-f853-2f1e13041082"
   },
   "outputs": [
    {
     "data": {
      "image/png": "[encoded data removed]",
      "text/plain": [
       "<Figure size 432x288 with 1 Axes>"
      ]
     },
     "metadata": {
      "needs_background": "light"
     },
     "output_type": "display_data"
    }
   ],
   "source": [
    "#Import scipy and draw the line of Linear Regression:\n",
    "import matplotlib.pyplot as plt\n",
    "from scipy import stats\n",
    "\n",
    "x = [5,7,8,7,2,17,2,9,4,11,12,9,6]\n",
    "y = [99,86,87,88,111,86,103,87,94,78,77,85,86]\n",
    "\n",
    "slope, intercept, r, p, std_err = stats.linregress(x, y)\n",
    "#Execute a method that returns some important key values of Linear Regression:\n",
    "\n",
    "def myfunc(x):\n",
    "  return slope * x + intercept \n",
    "  #This new value represents \n",
    "  #where on the y-axis the corresponding x value will be placed:\n",
    "\n",
    "mymodel = list(map(myfunc, x))\n",
    "\n",
    "#Run each value of the x array through the function. \n",
    "#This will result in a new array with new values for the y-axis:\n",
    "\n",
    "plt.scatter(x, y) # draw scatter plot\n",
    "\n",
    "plt.plot(x, mymodel) #Draw the line of linear regression:\n",
    "plt.show() # Display the diagram:"
   ]
  },
  {
   "cell_type": "code",
   "execution_count": 10,
   "metadata": {
    "colab": {
     "base_uri": "https://localhost:8080/"
    },
    "id": "glCzqim7UXdS",
    "outputId": "c4d06d14-ae00-4608-cec2-457a5053580d"
   },
   "outputs": [
    {
     "name": "stdout",
     "output_type": "stream",
     "text": [
      "85.59308314937454\n",
      "-0.758591524376155\n"
     ]
    }
   ],
   "source": [
    "#Predict future values\n",
    "from scipy import stats\n",
    "\n",
    "x = [5,7,8,7,2,17,2,9,4,11,12,9,6]\n",
    "y = [99,86,87,88,111,86,103,87,94,78,77,85,86]\n",
    "\n",
    "slope, intercept, r, p, std_err = stats.linregress(x, y)\n",
    "\n",
    "def myfunc(x):\n",
    "  return slope * x + intercept\n",
    "\n",
    "speed = myfunc(10)\n",
    "\n",
    "print(speed)\n",
    "print(r)\n"
   ]
  },
  {
   "cell_type": "code",
   "execution_count": 8,
   "metadata": {
    "colab": {
     "base_uri": "https://localhost:8080/",
     "height": 317
    },
    "id": "DtdjlVvpVUv7",
    "outputId": "0853e88f-fafe-4c0f-beef-ed7a537fedc0"
   },
   "outputs": [
    {
     "data": {
      "image/png": "[encoded data removed]",
      "text/plain": [
       "<Figure size 432x288 with 1 Axes>"
      ]
     },
     "metadata": {
      "needs_background": "light"
     },
     "output_type": "display_data"
    },
    {
     "name": "stdout",
     "output_type": "stream",
     "text": [
      "0.01331814154297491\n",
      "0.955558800440106\n",
      "0.24627150586388075\n"
     ]
    }
   ],
   "source": [
    "#Bad Fit?\n",
    "import matplotlib.pyplot as plt\n",
    "from scipy import stats\n",
    "\n",
    "x = [89,43,36,36,95,10,66,34,38,20,26,29,48,64,6,5,36,66,72,40]\n",
    "y = [21,46,3,35,67,95,53,72,58,10,26,34,90,33,38,20,56,2,47,15]\n",
    "\n",
    "slope, intercept, r, p, std_err = stats.linregress(x, y)\n",
    "\n",
    "def myfunc(x):\n",
    "  return slope * x + intercept\n",
    "\n",
    "mymodel = list(map(myfunc, x))\n",
    "\n",
    "plt.scatter(x, y)\n",
    "plt.plot(x, mymodel)\n",
    "plt.show()\n"
   ]
  },
  {
   "cell_type": "code",
   "execution_count": null,
   "metadata": {
    "colab": {
     "base_uri": "https://localhost:8080/"
    },
    "id": "wtqlymWjVw1m",
    "outputId": "8daf047b-2ee9-41a8-bc24-f1da5f735d9e"
   },
   "outputs": [
    {
     "name": "stdout",
     "output_type": "stream",
     "text": [
      "0.01331814154297491\n",
      "0.955558800440106\n",
      "0.24627150586388075\n"
     ]
    }
   ],
   "source": [
    "#This relationship - the coefficient of correlation - is called r.\n",
    "\n",
    "#The r value ranges from -1 to 1, where 0 means no relationship, and 1 (and -1) means 100% related.\n",
    "import numpy\n",
    "from scipy import stats\n",
    "\n",
    "x = [89,43,36,36,95,10,66,34,38,20,26,29,48,64,6,5,36,66,72,40]\n",
    "y = [21,46,3,35,67,95,53,72,58,10,26,34,90,33,38,20,56,2,47,15]\n",
    "\n",
    "slope, intercept, r, p, std_err = stats.linregress(x, y)\n",
    "\n",
    "print(r)\n",
    "#Excercise\n",
    "print(p)\n",
    "print(std_err)"
   ]
  },
  {
   "cell_type": "markdown",
   "metadata": {
    "id": "GcV1xq_vJ0Vo"
   },
   "source": [
    "#Polynomial Regression"
   ]
  },
  {
   "cell_type": "code",
   "execution_count": null,
   "metadata": {
    "colab": {
     "base_uri": "https://localhost:8080/",
     "height": 265
    },
    "id": "tJWQH_VGJ6c8",
    "outputId": "f701d448-5649-4749-95c6-466f8ca229ab"
   },
   "outputs": [
    {
     "data": {
      "image/png": "[encoded data removed]",
      "text/plain": [
       "<Figure size 432x288 with 1 Axes>"
      ]
     },
     "metadata": {
      "needs_background": "light"
     },
     "output_type": "display_data"
    }
   ],
   "source": [
    "#If your data points clearly will not fit a linear regression (a straight line through all data points), it might be ideal for polynomial regression.\n",
    "#Polynomial regression, like linear regression, uses the relationship between the variables x and y to find the best way to draw a line through the data points.\n",
    "import matplotlib.pyplot as plt\n",
    "\n",
    "x = [1,2,3,5,6,7,8,9,10,12,13,14,15,16,18,19,21,22]\n",
    "y = [100,90,80,60,60,55,60,65,70,70,75,76,78,79,90,99,99,100]\n",
    "\n",
    "plt.scatter(x, y)\n",
    "plt.show()"
   ]
  },
  {
   "cell_type": "code",
   "execution_count": null,
   "metadata": {
    "colab": {
     "base_uri": "https://localhost:8080/",
     "height": 265
    },
    "id": "MXANojLeKhAy",
    "outputId": "d7f7abf0-fae4-46ab-afed-4436620fd56f"
   },
   "outputs": [
    {
     "data": {
      "image/png": "[encoded data removed]",
      "text/plain": [
       "<Figure size 432x288 with 1 Axes>"
      ]
     },
     "metadata": {
      "needs_background": "light"
     },
     "output_type": "display_data"
    }
   ],
   "source": [
    "import numpy\n",
    "import matplotlib.pyplot as plt\n",
    "\n",
    "x = [1,2,3,5,6,7,8,9,10,12,13,14,15,16,18,19,21,22]\n",
    "y = [100,90,80,60,60,55,60,65,70,70,75,76,78,79,90,99,99,100]\n",
    "\n",
    "mymodel = numpy.poly1d(numpy.polyfit(x, y, 3))\n",
    "\n",
    "myline = numpy.linspace(1, 22, 100)\n",
    "\n",
    "plt.scatter(x, y)\n",
    "plt.plot(myline, mymodel(myline))\n",
    "plt.show()"
   ]
  },
  {
   "cell_type": "code",
   "execution_count": null,
   "metadata": {
    "colab": {
     "base_uri": "https://localhost:8080/"
    },
    "id": "UXlMdyzXLLE5",
    "outputId": "420b5977-3adc-4de5-bf8b-921c6095b9aa"
   },
   "outputs": [
    {
     "name": "stdout",
     "output_type": "stream",
     "text": [
      "0.9432150416451026\n"
     ]
    }
   ],
   "source": [
    "#R-Squared\n",
    "#It is important to know how well the relationship between the values of the x- and y-axis is, if there are no relationship the polynomial regression can not be used to predict anything.\n",
    "#The relationship is measured with a value called the r-squared.\n",
    "#The r-squared value ranges from 0 to 1, where 0 means no relationship, and 1 means 100% related.\n",
    "import numpy\n",
    "from sklearn.metrics import r2_score\n",
    "x = [1,2,3,5,6,7,8,9,10,12,13,14,15,16,18,19,21,22]\n",
    "y = [100,90,80,60,60,55,60,65,70,70,75,76,78,79,90,99,99,100]\n",
    "mymodel = numpy.poly1d(numpy.polyfit(x, y, 3))\n",
    "print(r2_score(y, mymodel(x)))"
   ]
  },
  {
   "cell_type": "code",
   "execution_count": null,
   "metadata": {
    "colab": {
     "base_uri": "https://localhost:8080/"
    },
    "id": "MuWJo6s7M4b0",
    "outputId": "a8fe75da-a335-4df8-d944-31e56bcf4e1b"
   },
   "outputs": [
    {
     "name": "stdout",
     "output_type": "stream",
     "text": [
      "88.87331269697997\n"
     ]
    }
   ],
   "source": [
    "import numpy\n",
    "from sklearn.metrics import r2_score\n",
    "\n",
    "x = [1,2,3,5,6,7,8,9,10,12,13,14,15,16,18,19,21,22]\n",
    "y = [100,90,80,60,60,55,60,65,70,70,75,76,78,79,90,99,99,100]\n",
    "\n",
    "mymodel = numpy.poly1d(numpy.polyfit(x, y, 3))\n",
    "\n",
    "speed = mymodel(17)\n",
    "print(speed)"
   ]
  },
  {
   "cell_type": "code",
   "execution_count": null,
   "metadata": {
    "colab": {
     "base_uri": "https://localhost:8080/",
     "height": 265
    },
    "id": "olIyYrJ9NP1E",
    "outputId": "94c68db5-c713-4069-85d9-ed225573dc8c"
   },
   "outputs": [
    {
     "data": {
      "image/png": "[encoded data removed]",
      "text/plain": [
       "<Figure size 432x288 with 1 Axes>"
      ]
     },
     "metadata": {
      "needs_background": "light"
     },
     "output_type": "display_data"
    }
   ],
   "source": [
    "import numpy\n",
    "import matplotlib.pyplot as plt\n",
    "\n",
    "x = [89,43,36,36,95,10,66,34,38,20,26,29,48,64,6,5,36,66,72,40]\n",
    "y = [21,46,3,35,67,95,53,72,58,10,26,34,90,33,38,20,56,2,47,15]\n",
    "\n",
    "mymodel = numpy.poly1d(numpy.polyfit(x, y, 3))\n",
    "\n",
    "myline = numpy.linspace(2, 95, 100)\n",
    "\n",
    "plt.scatter(x, y)\n",
    "plt.plot(myline, mymodel(myline))\n",
    "plt.show()"
   ]
  },
  {
   "cell_type": "code",
   "execution_count": null,
   "metadata": {
    "colab": {
     "base_uri": "https://localhost:8080/"
    },
    "id": "-U7n19oiNXL0",
    "outputId": "31b08282-742b-4a78-d039-0e820f717b19"
   },
   "outputs": [
    {
     "name": "stdout",
     "output_type": "stream",
     "text": [
      "0.009952707566680652\n"
     ]
    }
   ],
   "source": [
    "#0.00995 indicates a very bad relationship, and tells us that this data set is not suitable for polynomial regression.\n",
    "import numpy\n",
    "from sklearn.metrics import r2_score\n",
    "\n",
    "x = [89,43,36,36,95,10,66,34,38,20,26,29,48,64,6,5,36,66,72,40]\n",
    "y = [21,46,3,35,67,95,53,72,58,10,26,34,90,33,38,20,56,2,47,15]\n",
    "\n",
    "mymodel = numpy.poly1d(numpy.polyfit(x, y, 3))\n",
    "\n",
    "print(r2_score(y, mymodel(x)))"
   ]
  },
  {
   "cell_type": "markdown",
   "metadata": {
    "id": "lT-j88fXOFPL"
   },
   "source": [
    "#Machine Learning - Multiple Regression"
   ]
  },
  {
   "cell_type": "code",
   "execution_count": null,
   "metadata": {
    "id": "et4av3xHOor7"
   },
   "outputs": [],
   "source": [
    "#Car\t        Model\t        Volume\t    Weight\t  CO2\t\n",
    "#Toyota\t      Aygo\t        1000\t      790\t      99\n",
    "#Mitsubishi\t  Space Star\t  1200\t      1160\t    95\n",
    "#Skoda\t      Citigo\t      1000\t      929\t      95\n",
    "#Fiat\t        500\t          900\t        865\t      90\n",
    "#Mini\t        Cooper\t      1500\t      1140\t    105\n",
    "#VW\t          Up!\t          1000\t      929\t      105\n",
    "#Skoda\t      Fabia\t        1400\t      1109\t    90\n",
    "#Mercedes\t    A-Class\t      1500\t      1365\t    92\n",
    "#Ford\t        Fiesta\t      1500\t      1112\t    98\n",
    "#Audi\tA1\t1600\t1150\t99\n",
    "#Hyundai\tI20\t1100\t980\t99\n",
    "#Suzuki\tSwift\t1300\t990\t101\n",
    "#Ford\tFiesta\t1000\t1112\t99\n",
    "#Honda\tCivic\t1600\t1252\t94\n",
    "#Hundai\tI30\t1600\t1326\t97\n",
    "#Opel\tAstra\t1600\t1330\t97\n",
    "#BMW\t1\t1600\t1365\t99\n",
    "#Mazda\t3\t2200\t1280\t104\n",
    "#Skoda\tRapid\t1600\t1119\t104\n",
    "#Ford\tFocus\t2000\t1328\t105\n",
    "#Ford\tMondeo\t1600\t1584\t94\n",
    "#Opel\tInsignia\t2000\t1428\t99\n",
    "#Mercedes\tC-Class\t2100\t1365\t99\n",
    "#Skoda\tOctavia\t1600\t1415\t99\n",
    "#Volvo\tS60\t2000\t1415\t99\n",
    "#Mercedes\tCLA\t1500\t1465\t102\n",
    "#Audi\tA4\t2000\t1490\t104\n",
    "#Audi\tA6\t2000\t1725\t114\n",
    "#Volvo\tV70\t1600\t1523\t109\n",
    "#BMW\t5\t2000\t1705\t114\n",
    "#Mercedes\tE-Class\t2100\t1605\t115\n",
    "#Volvo\tXC70\t2000\t1746\t117\n",
    "#Ford\tB-Max\t1600\t1235\t104\n",
    "#BMW\t2\t1600\t1390\t108\n",
    "#Opel\tZafira\t1600\t1405\t109\n",
    "#Mercedes\tSLK\t2500\t1395\t120"
   ]
  },
  {
   "cell_type": "code",
   "execution_count": null,
   "metadata": {
    "colab": {
     "base_uri": "https://localhost:8080/"
    },
    "id": "xHzKoIcYPVEU",
    "outputId": "17c98b39-5a2e-4850-9b61-3747028bd6f4"
   },
   "outputs": [
    {
     "name": "stdout",
     "output_type": "stream",
     "text": [
      "[107.2087328]\n"
     ]
    }
   ],
   "source": [
    "import pandas\n",
    "from sklearn import linear_model\n",
    "\n",
    "df = pandas.read_csv(\"/content/cars.csv\")\n",
    "\n",
    "X = df[['Weight', 'Volume']]\n",
    "y = df['CO2']\n",
    "\n",
    "regr = linear_model.LinearRegression()\n",
    "regr.fit(X, y)\n",
    "\n",
    "#predict the CO2 emission of a car where the weight is 2300kg, and the volume is 1300cm3:\n",
    "predictedCO2 = regr.predict([[2300, 1300]])\n",
    "\n",
    "print(predictedCO2)"
   ]
  },
  {
   "cell_type": "code",
   "execution_count": null,
   "metadata": {
    "colab": {
     "base_uri": "https://localhost:8080/"
    },
    "id": "f3O_FIizQ5zl",
    "outputId": "c470d05f-ec7f-4eaf-a128-4f5f4e4535d5"
   },
   "outputs": [
    {
     "name": "stdout",
     "output_type": "stream",
     "text": [
      "[0.00755095 0.00780526]\n"
     ]
    }
   ],
   "source": [
    "import pandas\n",
    "from sklearn import linear_model\n",
    "\n",
    "df = pandas.read_csv(\"cars.csv\")\n",
    "\n",
    "X = df[['Weight', 'Volume']]\n",
    "y = df['CO2']\n",
    "\n",
    "regr = linear_model.LinearRegression()\n",
    "regr.fit(X, y)\n",
    "\n",
    "print(regr.coef_)"
   ]
  }
 ],
 "metadata": {
  "colab": {
   "collapsed_sections": [],
   "name": "ML_Python.ipynb",
   "provenance": []
  },
  "kernelspec": {
   "display_name": "Python 3",
   "language": "python",
   "name": "python3"
  },
  "language_info": {
   "codemirror_mode": {
    "name": "ipython",
    "version": 3
   },
   "file_extension": ".py",
   "mimetype": "text/x-python",
   "name": "python",
   "nbconvert_exporter": "python",
   "pygments_lexer": "ipython3",
   "version": "3.8.3"
  }
 },
 "nbformat": 4,
 "nbformat_minor": 1
}

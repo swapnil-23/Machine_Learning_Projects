{
 "cells": [
  {
   "cell_type": "code",
   "execution_count": 1,
   "metadata": {},
   "outputs": [],
   "source": [
    "#importing the libraries\n",
    "\n",
    "import pandas as pd\n",
    "import numpy as np\n",
    "import tensorflow as tf"
   ]
  },
  {
   "cell_type": "code",
   "execution_count": 2,
   "metadata": {},
   "outputs": [
    {
     "name": "stdout",
     "output_type": "stream",
     "text": [
      "      RowNumber  CustomerId    Surname  CreditScore Geography  Gender  Age  \\\n",
      "0             1    15634602   Hargrave          619    France  Female   42   \n",
      "1             2    15647311       Hill          608     Spain  Female   41   \n",
      "2             3    15619304       Onio          502    France  Female   42   \n",
      "3             4    15701354       Boni          699    France  Female   39   \n",
      "4             5    15737888   Mitchell          850     Spain  Female   43   \n",
      "...         ...         ...        ...          ...       ...     ...  ...   \n",
      "9995       9996    15606229   Obijiaku          771    France    Male   39   \n",
      "9996       9997    15569892  Johnstone          516    France    Male   35   \n",
      "9997       9998    15584532        Liu          709    France  Female   36   \n",
      "9998       9999    15682355  Sabbatini          772   Germany    Male   42   \n",
      "9999      10000    15628319     Walker          792    France  Female   28   \n",
      "\n",
      "      Tenure    Balance  NumOfProducts  HasCrCard  IsActiveMember  \\\n",
      "0          2       0.00              1          1               1   \n",
      "1          1   83807.86              1          0               1   \n",
      "2          8  159660.80              3          1               0   \n",
      "3          1       0.00              2          0               0   \n",
      "4          2  125510.82              1          1               1   \n",
      "...      ...        ...            ...        ...             ...   \n",
      "9995       5       0.00              2          1               0   \n",
      "9996      10   57369.61              1          1               1   \n",
      "9997       7       0.00              1          0               1   \n",
      "9998       3   75075.31              2          1               0   \n",
      "9999       4  130142.79              1          1               0   \n",
      "\n",
      "      EstimatedSalary  Exited  \n",
      "0           101348.88       1  \n",
      "1           112542.58       0  \n",
      "2           113931.57       1  \n",
      "3            93826.63       0  \n",
      "4            79084.10       0  \n",
      "...               ...     ...  \n",
      "9995         96270.64       0  \n",
      "9996        101699.77       0  \n",
      "9997         42085.58       1  \n",
      "9998         92888.52       1  \n",
      "9999         38190.78       0  \n",
      "\n",
      "[10000 rows x 14 columns]\n"
     ]
    }
   ],
   "source": [
    "df = pd.read_csv(r'C:\\Users\\SWAPNIL BISWAS\\DATASETS\\Churn_Modelling.csv')\n",
    "print(df)"
   ]
  },
  {
   "cell_type": "code",
   "execution_count": 3,
   "metadata": {},
   "outputs": [
    {
     "data": {
      "text/html": [
       "<div>\n",
       "<style scoped>\n",
       "    .dataframe tbody tr th:only-of-type {\n",
       "        vertical-align: middle;\n",
       "    }\n",
       "\n",
       "    .dataframe tbody tr th {\n",
       "        vertical-align: top;\n",
       "    }\n",
       "\n",
       "    .dataframe thead th {\n",
       "        text-align: right;\n",
       "    }\n",
       "</style>\n",
       "<table border=\"1\" class=\"dataframe\">\n",
       "  <thead>\n",
       "    <tr style=\"text-align: right;\">\n",
       "      <th></th>\n",
       "      <th>RowNumber</th>\n",
       "      <th>CustomerId</th>\n",
       "      <th>Surname</th>\n",
       "      <th>CreditScore</th>\n",
       "      <th>Geography</th>\n",
       "      <th>Gender</th>\n",
       "      <th>Age</th>\n",
       "      <th>Tenure</th>\n",
       "      <th>Balance</th>\n",
       "      <th>NumOfProducts</th>\n",
       "      <th>HasCrCard</th>\n",
       "      <th>IsActiveMember</th>\n",
       "      <th>EstimatedSalary</th>\n",
       "      <th>Exited</th>\n",
       "    </tr>\n",
       "  </thead>\n",
       "  <tbody>\n",
       "    <tr>\n",
       "      <th>0</th>\n",
       "      <td>1</td>\n",
       "      <td>15634602</td>\n",
       "      <td>Hargrave</td>\n",
       "      <td>619</td>\n",
       "      <td>France</td>\n",
       "      <td>Female</td>\n",
       "      <td>42</td>\n",
       "      <td>2</td>\n",
       "      <td>0.00</td>\n",
       "      <td>1</td>\n",
       "      <td>1</td>\n",
       "      <td>1</td>\n",
       "      <td>101348.88</td>\n",
       "      <td>1</td>\n",
       "    </tr>\n",
       "    <tr>\n",
       "      <th>1</th>\n",
       "      <td>2</td>\n",
       "      <td>15647311</td>\n",
       "      <td>Hill</td>\n",
       "      <td>608</td>\n",
       "      <td>Spain</td>\n",
       "      <td>Female</td>\n",
       "      <td>41</td>\n",
       "      <td>1</td>\n",
       "      <td>83807.86</td>\n",
       "      <td>1</td>\n",
       "      <td>0</td>\n",
       "      <td>1</td>\n",
       "      <td>112542.58</td>\n",
       "      <td>0</td>\n",
       "    </tr>\n",
       "    <tr>\n",
       "      <th>2</th>\n",
       "      <td>3</td>\n",
       "      <td>15619304</td>\n",
       "      <td>Onio</td>\n",
       "      <td>502</td>\n",
       "      <td>France</td>\n",
       "      <td>Female</td>\n",
       "      <td>42</td>\n",
       "      <td>8</td>\n",
       "      <td>159660.80</td>\n",
       "      <td>3</td>\n",
       "      <td>1</td>\n",
       "      <td>0</td>\n",
       "      <td>113931.57</td>\n",
       "      <td>1</td>\n",
       "    </tr>\n",
       "    <tr>\n",
       "      <th>3</th>\n",
       "      <td>4</td>\n",
       "      <td>15701354</td>\n",
       "      <td>Boni</td>\n",
       "      <td>699</td>\n",
       "      <td>France</td>\n",
       "      <td>Female</td>\n",
       "      <td>39</td>\n",
       "      <td>1</td>\n",
       "      <td>0.00</td>\n",
       "      <td>2</td>\n",
       "      <td>0</td>\n",
       "      <td>0</td>\n",
       "      <td>93826.63</td>\n",
       "      <td>0</td>\n",
       "    </tr>\n",
       "    <tr>\n",
       "      <th>4</th>\n",
       "      <td>5</td>\n",
       "      <td>15737888</td>\n",
       "      <td>Mitchell</td>\n",
       "      <td>850</td>\n",
       "      <td>Spain</td>\n",
       "      <td>Female</td>\n",
       "      <td>43</td>\n",
       "      <td>2</td>\n",
       "      <td>125510.82</td>\n",
       "      <td>1</td>\n",
       "      <td>1</td>\n",
       "      <td>1</td>\n",
       "      <td>79084.10</td>\n",
       "      <td>0</td>\n",
       "    </tr>\n",
       "  </tbody>\n",
       "</table>\n",
       "</div>"
      ],
      "text/plain": [
       "   RowNumber  CustomerId   Surname  CreditScore Geography  Gender  Age  \\\n",
       "0          1    15634602  Hargrave          619    France  Female   42   \n",
       "1          2    15647311      Hill          608     Spain  Female   41   \n",
       "2          3    15619304      Onio          502    France  Female   42   \n",
       "3          4    15701354      Boni          699    France  Female   39   \n",
       "4          5    15737888  Mitchell          850     Spain  Female   43   \n",
       "\n",
       "   Tenure    Balance  NumOfProducts  HasCrCard  IsActiveMember  \\\n",
       "0       2       0.00              1          1               1   \n",
       "1       1   83807.86              1          0               1   \n",
       "2       8  159660.80              3          1               0   \n",
       "3       1       0.00              2          0               0   \n",
       "4       2  125510.82              1          1               1   \n",
       "\n",
       "   EstimatedSalary  Exited  \n",
       "0        101348.88       1  \n",
       "1        112542.58       0  \n",
       "2        113931.57       1  \n",
       "3         93826.63       0  \n",
       "4         79084.10       0  "
      ]
     },
     "execution_count": 3,
     "metadata": {},
     "output_type": "execute_result"
    }
   ],
   "source": [
    "df.head()"
   ]
  },
  {
   "cell_type": "code",
   "execution_count": 4,
   "metadata": {},
   "outputs": [
    {
     "data": {
      "text/plain": [
       "<bound method DataFrame.info of       RowNumber  CustomerId    Surname  CreditScore Geography  Gender  Age  \\\n",
       "0             1    15634602   Hargrave          619    France  Female   42   \n",
       "1             2    15647311       Hill          608     Spain  Female   41   \n",
       "2             3    15619304       Onio          502    France  Female   42   \n",
       "3             4    15701354       Boni          699    France  Female   39   \n",
       "4             5    15737888   Mitchell          850     Spain  Female   43   \n",
       "...         ...         ...        ...          ...       ...     ...  ...   \n",
       "9995       9996    15606229   Obijiaku          771    France    Male   39   \n",
       "9996       9997    15569892  Johnstone          516    France    Male   35   \n",
       "9997       9998    15584532        Liu          709    France  Female   36   \n",
       "9998       9999    15682355  Sabbatini          772   Germany    Male   42   \n",
       "9999      10000    15628319     Walker          792    France  Female   28   \n",
       "\n",
       "      Tenure    Balance  NumOfProducts  HasCrCard  IsActiveMember  \\\n",
       "0          2       0.00              1          1               1   \n",
       "1          1   83807.86              1          0               1   \n",
       "2          8  159660.80              3          1               0   \n",
       "3          1       0.00              2          0               0   \n",
       "4          2  125510.82              1          1               1   \n",
       "...      ...        ...            ...        ...             ...   \n",
       "9995       5       0.00              2          1               0   \n",
       "9996      10   57369.61              1          1               1   \n",
       "9997       7       0.00              1          0               1   \n",
       "9998       3   75075.31              2          1               0   \n",
       "9999       4  130142.79              1          1               0   \n",
       "\n",
       "      EstimatedSalary  Exited  \n",
       "0           101348.88       1  \n",
       "1           112542.58       0  \n",
       "2           113931.57       1  \n",
       "3            93826.63       0  \n",
       "4            79084.10       0  \n",
       "...               ...     ...  \n",
       "9995         96270.64       0  \n",
       "9996        101699.77       0  \n",
       "9997         42085.58       1  \n",
       "9998         92888.52       1  \n",
       "9999         38190.78       0  \n",
       "\n",
       "[10000 rows x 14 columns]>"
      ]
     },
     "execution_count": 4,
     "metadata": {},
     "output_type": "execute_result"
    }
   ],
   "source": [
    "df.info"
   ]
  },
  {
   "cell_type": "code",
   "execution_count": 5,
   "metadata": {},
   "outputs": [
    {
     "data": {
      "text/plain": [
       "RowNumber          0\n",
       "CustomerId         0\n",
       "Surname            0\n",
       "CreditScore        0\n",
       "Geography          0\n",
       "Gender             0\n",
       "Age                0\n",
       "Tenure             0\n",
       "Balance            0\n",
       "NumOfProducts      0\n",
       "HasCrCard          0\n",
       "IsActiveMember     0\n",
       "EstimatedSalary    0\n",
       "Exited             0\n",
       "dtype: int64"
      ]
     },
     "execution_count": 5,
     "metadata": {},
     "output_type": "execute_result"
    }
   ],
   "source": [
    "#to check the missing values in dataset\n",
    "df.isnull().sum()"
   ]
  },
  {
   "cell_type": "code",
   "execution_count": 6,
   "metadata": {},
   "outputs": [],
   "source": [
    "X = df.iloc[: , 3:-1].values\n",
    "y = df.iloc[:, -1].values"
   ]
  },
  {
   "cell_type": "code",
   "execution_count": 7,
   "metadata": {},
   "outputs": [
    {
     "name": "stdout",
     "output_type": "stream",
     "text": [
      "[[619 'France' 'Female' ... 1 1 101348.88]\n",
      " [608 'Spain' 'Female' ... 0 1 112542.58]\n",
      " [502 'France' 'Female' ... 1 0 113931.57]\n",
      " ...\n",
      " [709 'France' 'Female' ... 0 1 42085.58]\n",
      " [772 'Germany' 'Male' ... 1 0 92888.52]\n",
      " [792 'France' 'Female' ... 1 0 38190.78]]\n"
     ]
    }
   ],
   "source": [
    "print(X)"
   ]
  },
  {
   "cell_type": "code",
   "execution_count": 8,
   "metadata": {},
   "outputs": [
    {
     "name": "stdout",
     "output_type": "stream",
     "text": [
      "[1 0 1 ... 1 1 0]\n"
     ]
    }
   ],
   "source": [
    "print(y)"
   ]
  },
  {
   "cell_type": "code",
   "execution_count": 9,
   "metadata": {},
   "outputs": [
    {
     "name": "stdout",
     "output_type": "stream",
     "text": [
      "[[619 'France' 'Female' ... 1 1 101348.88]\n",
      " [608 'Spain' 'Female' ... 0 1 112542.58]\n",
      " [502 'France' 'Female' ... 1 0 113931.57]\n",
      " ...\n",
      " [709 'France' 'Female' ... 0 1 42085.58]\n",
      " [772 'Germany' 'Male' ... 1 0 92888.52]\n",
      " [792 'France' 'Female' ... 1 0 38190.78]]\n"
     ]
    }
   ],
   "source": [
    "print(X)"
   ]
  },
  {
   "cell_type": "code",
   "execution_count": 19,
   "metadata": {},
   "outputs": [],
   "source": [
    "#performing LabelEncoder on 'gender' column\n",
    "\n",
    "from sklearn.preprocessing import LabelEncoder\n",
    "le = LabelEncoder()\n",
    "X[: , 2] = le.fit_transform(X[:,2])"
   ]
  },
  {
   "cell_type": "code",
   "execution_count": 21,
   "metadata": {},
   "outputs": [
    {
     "name": "stdout",
     "output_type": "stream",
     "text": [
      "[[619 'France' 0 ... 1 1 101348.88]\n",
      " [608 'Spain' 0 ... 0 1 112542.58]\n",
      " [502 'France' 0 ... 1 0 113931.57]\n",
      " ...\n",
      " [709 'France' 0 ... 0 1 42085.58]\n",
      " [772 'Germany' 1 ... 1 0 92888.52]\n",
      " [792 'France' 0 ... 1 0 38190.78]]\n"
     ]
    }
   ],
   "source": [
    "print(X)"
   ]
  },
  {
   "cell_type": "code",
   "execution_count": 25,
   "metadata": {},
   "outputs": [],
   "source": [
    "#performing OneHotEncoder on the 'geography' column\n",
    "\n",
    "from sklearn.compose import ColumnTransformer\n",
    "from sklearn.preprocessing import OneHotEncoder\n",
    "ct = ColumnTransformer(transformers=[('encoder', OneHotEncoder(), [1])], remainder='passthrough')\n",
    "X = np.array(ct.fit_transform(X))"
   ]
  },
  {
   "cell_type": "code",
   "execution_count": 27,
   "metadata": {},
   "outputs": [
    {
     "name": "stdout",
     "output_type": "stream",
     "text": [
      "[[1.0 0.0 0.0 ... 1 1 101348.88]\n",
      " [0.0 0.0 1.0 ... 0 1 112542.58]\n",
      " [1.0 0.0 0.0 ... 1 0 113931.57]\n",
      " ...\n",
      " [1.0 0.0 0.0 ... 0 1 42085.58]\n",
      " [0.0 1.0 0.0 ... 1 0 92888.52]\n",
      " [1.0 0.0 0.0 ... 1 0 38190.78]]\n"
     ]
    }
   ],
   "source": [
    "print(X)"
   ]
  },
  {
   "cell_type": "code",
   "execution_count": 29,
   "metadata": {},
   "outputs": [],
   "source": [
    "#Splitting the dataset into training set and test set\n",
    "\n",
    "from sklearn.model_selection import train_test_split\n",
    "X_train , X_test , y_train , y_test = train_test_split(X , y , test_size = 0.2 , random_state = 0)"
   ]
  },
  {
   "cell_type": "code",
   "execution_count": 31,
   "metadata": {},
   "outputs": [],
   "source": [
    "#feature scaling\n",
    "\n",
    "from sklearn.preprocessing import StandardScaler\n",
    "sc = StandardScaler()\n",
    "X_train = sc.fit_transform(X_train)\n",
    "X_test = sc.fit_transform(X_test)"
   ]
  },
  {
   "cell_type": "code",
   "execution_count": 33,
   "metadata": {},
   "outputs": [],
   "source": [
    "# initilizing the ANN\n",
    "ann = tf.keras.models.Sequential()"
   ]
  },
  {
   "cell_type": "code",
   "execution_count": 35,
   "metadata": {},
   "outputs": [],
   "source": [
    "#Adding the first hidden layer\n",
    "ann.add(tf.keras.layers.Dense(units = 6 , activation = 'relu'))"
   ]
  },
  {
   "cell_type": "code",
   "execution_count": 37,
   "metadata": {},
   "outputs": [],
   "source": [
    "#Adding the second hidden layer\n",
    "ann.add(tf.keras.layers.Dense(units = 6 , activation = 'relu'))"
   ]
  },
  {
   "cell_type": "code",
   "execution_count": 39,
   "metadata": {},
   "outputs": [],
   "source": [
    "#Adding the Output Layer\n",
    "ann.add(tf.keras.layers.Dense(units = 1 , activation = 'sigmoid'))"
   ]
  },
  {
   "cell_type": "code",
   "execution_count": 46,
   "metadata": {},
   "outputs": [],
   "source": [
    "#ompiling the ANN\n",
    "#since it is binary classfication ANN the loss function being used is binary_crossentropy\n",
    "ann.compile(optimizer = 'adam', loss = 'binary_crossentropy', metrics = ['accuracy'])"
   ]
  },
  {
   "cell_type": "code",
   "execution_count": 50,
   "metadata": {},
   "outputs": [
    {
     "name": "stdout",
     "output_type": "stream",
     "text": [
      "Epoch 1/100\n",
      "250/250 [==============================] - 0s 521us/step - loss: 0.3290 - accuracy: 0.8690\n",
      "Epoch 2/100\n",
      "250/250 [==============================] - 0s 493us/step - loss: 0.3295 - accuracy: 0.8660\n",
      "Epoch 3/100\n",
      "250/250 [==============================] - 0s 489us/step - loss: 0.3294 - accuracy: 0.8671\n",
      "Epoch 4/100\n",
      "250/250 [==============================] - 0s 541us/step - loss: 0.3290 - accuracy: 0.8668\n",
      "Epoch 5/100\n",
      "250/250 [==============================] - 0s 493us/step - loss: 0.3297 - accuracy: 0.8689\n",
      "Epoch 6/100\n",
      "250/250 [==============================] - 0s 489us/step - loss: 0.3293 - accuracy: 0.8677\n",
      "Epoch 7/100\n",
      "250/250 [==============================] - 0s 501us/step - loss: 0.3288 - accuracy: 0.8675\n",
      "Epoch 8/100\n",
      "250/250 [==============================] - 0s 499us/step - loss: 0.3293 - accuracy: 0.8677\n",
      "Epoch 9/100\n",
      "250/250 [==============================] - 0s 493us/step - loss: 0.3290 - accuracy: 0.8677\n",
      "Epoch 10/100\n",
      "250/250 [==============================] - 0s 493us/step - loss: 0.3293 - accuracy: 0.8679\n",
      "Epoch 11/100\n",
      "250/250 [==============================] - 0s 509us/step - loss: 0.3293 - accuracy: 0.8687\n",
      "Epoch 12/100\n",
      "250/250 [==============================] - 0s 505us/step - loss: 0.3291 - accuracy: 0.8679\n",
      "Epoch 13/100\n",
      "250/250 [==============================] - 0s 485us/step - loss: 0.3289 - accuracy: 0.8683\n",
      "Epoch 14/100\n",
      "250/250 [==============================] - 0s 481us/step - loss: 0.3292 - accuracy: 0.8684\n",
      "Epoch 15/100\n",
      "250/250 [==============================] - 0s 493us/step - loss: 0.3293 - accuracy: 0.8675\n",
      "Epoch 16/100\n",
      "250/250 [==============================] - 0s 489us/step - loss: 0.3290 - accuracy: 0.8685\n",
      "Epoch 17/100\n",
      "250/250 [==============================] - 0s 481us/step - loss: 0.3288 - accuracy: 0.8683\n",
      "Epoch 18/100\n",
      "250/250 [==============================] - 0s 485us/step - loss: 0.3284 - accuracy: 0.8692\n",
      "Epoch 19/100\n",
      "250/250 [==============================] - 0s 488us/step - loss: 0.3288 - accuracy: 0.8666\n",
      "Epoch 20/100\n",
      "250/250 [==============================] - 0s 483us/step - loss: 0.3295 - accuracy: 0.8666\n",
      "Epoch 21/100\n",
      "250/250 [==============================] - 0s 483us/step - loss: 0.3290 - accuracy: 0.8679\n",
      "Epoch 22/100\n",
      "250/250 [==============================] - 0s 488us/step - loss: 0.3289 - accuracy: 0.8687\n",
      "Epoch 23/100\n",
      "250/250 [==============================] - 0s 497us/step - loss: 0.3290 - accuracy: 0.8691\n",
      "Epoch 24/100\n",
      "250/250 [==============================] - 0s 489us/step - loss: 0.3286 - accuracy: 0.8708\n",
      "Epoch 25/100\n",
      "250/250 [==============================] - 0s 493us/step - loss: 0.3289 - accuracy: 0.8669\n",
      "Epoch 26/100\n",
      "250/250 [==============================] - 0s 497us/step - loss: 0.3289 - accuracy: 0.8666\n",
      "Epoch 27/100\n",
      "250/250 [==============================] - 0s 482us/step - loss: 0.3287 - accuracy: 0.8685\n",
      "Epoch 28/100\n",
      "250/250 [==============================] - 0s 489us/step - loss: 0.3287 - accuracy: 0.8695\n",
      "Epoch 29/100\n",
      "250/250 [==============================] - 0s 489us/step - loss: 0.3289 - accuracy: 0.8677\n",
      "Epoch 30/100\n",
      "250/250 [==============================] - 0s 489us/step - loss: 0.3299 - accuracy: 0.8669\n",
      "Epoch 31/100\n",
      "250/250 [==============================] - 0s 491us/step - loss: 0.3286 - accuracy: 0.8683\n",
      "Epoch 32/100\n",
      "250/250 [==============================] - 0s 497us/step - loss: 0.3286 - accuracy: 0.8666\n",
      "Epoch 33/100\n",
      "250/250 [==============================] - 0s 484us/step - loss: 0.3286 - accuracy: 0.8690\n",
      "Epoch 34/100\n",
      "250/250 [==============================] - 0s 489us/step - loss: 0.3291 - accuracy: 0.8679\n",
      "Epoch 35/100\n",
      "250/250 [==============================] - 0s 493us/step - loss: 0.3293 - accuracy: 0.8681\n",
      "Epoch 36/100\n",
      "250/250 [==============================] - 0s 497us/step - loss: 0.3286 - accuracy: 0.8677\n",
      "Epoch 37/100\n",
      "250/250 [==============================] - 0s 533us/step - loss: 0.3287 - accuracy: 0.8665\n",
      "Epoch 38/100\n",
      "250/250 [==============================] - 0s 529us/step - loss: 0.3285 - accuracy: 0.8689\n",
      "Epoch 39/100\n",
      "250/250 [==============================] - 0s 529us/step - loss: 0.3288 - accuracy: 0.8673\n",
      "Epoch 40/100\n",
      "250/250 [==============================] - 0s 493us/step - loss: 0.3284 - accuracy: 0.8677\n",
      "Epoch 41/100\n",
      "250/250 [==============================] - 0s 513us/step - loss: 0.3289 - accuracy: 0.8681\n",
      "Epoch 42/100\n",
      "250/250 [==============================] - 0s 555us/step - loss: 0.3287 - accuracy: 0.8660\n",
      "Epoch 43/100\n",
      "250/250 [==============================] - 0s 519us/step - loss: 0.3292 - accuracy: 0.8664\n",
      "Epoch 44/100\n",
      "250/250 [==============================] - 0s 529us/step - loss: 0.3280 - accuracy: 0.8681\n",
      "Epoch 45/100\n",
      "250/250 [==============================] - 0s 525us/step - loss: 0.3286 - accuracy: 0.8686\n",
      "Epoch 46/100\n",
      "250/250 [==============================] - 0s 528us/step - loss: 0.3288 - accuracy: 0.8684\n",
      "Epoch 47/100\n",
      "250/250 [==============================] - 0s 521us/step - loss: 0.3279 - accuracy: 0.8686\n",
      "Epoch 48/100\n",
      "250/250 [==============================] - 0s 509us/step - loss: 0.3283 - accuracy: 0.8685\n",
      "Epoch 49/100\n",
      "250/250 [==============================] - 0s 489us/step - loss: 0.3285 - accuracy: 0.8679\n",
      "Epoch 50/100\n",
      "250/250 [==============================] - 0s 497us/step - loss: 0.3289 - accuracy: 0.8684\n",
      "Epoch 51/100\n",
      "250/250 [==============================] - 0s 537us/step - loss: 0.3287 - accuracy: 0.8670\n",
      "Epoch 52/100\n",
      "250/250 [==============================] - 0s 529us/step - loss: 0.3282 - accuracy: 0.8701\n",
      "Epoch 53/100\n",
      "250/250 [==============================] - 0s 497us/step - loss: 0.3292 - accuracy: 0.8666\n",
      "Epoch 54/100\n",
      "250/250 [==============================] - 0s 505us/step - loss: 0.3282 - accuracy: 0.8680\n",
      "Epoch 55/100\n",
      "250/250 [==============================] - 0s 545us/step - loss: 0.3284 - accuracy: 0.8684\n",
      "Epoch 56/100\n",
      "250/250 [==============================] - 0s 513us/step - loss: 0.3285 - accuracy: 0.8683\n",
      "Epoch 57/100\n",
      "250/250 [==============================] - 0s 525us/step - loss: 0.3288 - accuracy: 0.8681\n",
      "Epoch 58/100\n",
      "250/250 [==============================] - 0s 515us/step - loss: 0.3286 - accuracy: 0.8681\n",
      "Epoch 59/100\n",
      "250/250 [==============================] - 0s 523us/step - loss: 0.3284 - accuracy: 0.8683\n",
      "Epoch 60/100\n",
      "250/250 [==============================] - 0s 509us/step - loss: 0.3275 - accuracy: 0.8681\n",
      "Epoch 61/100\n",
      "250/250 [==============================] - 0s 497us/step - loss: 0.3278 - accuracy: 0.8686\n",
      "Epoch 62/100\n",
      "250/250 [==============================] - 0s 509us/step - loss: 0.3281 - accuracy: 0.8675\n",
      "Epoch 63/100\n",
      "250/250 [==============================] - 0s 521us/step - loss: 0.3281 - accuracy: 0.8675\n",
      "Epoch 64/100\n",
      "250/250 [==============================] - 0s 533us/step - loss: 0.3280 - accuracy: 0.8701\n",
      "Epoch 65/100\n",
      "250/250 [==============================] - 0s 521us/step - loss: 0.3281 - accuracy: 0.8660\n",
      "Epoch 66/100\n",
      "250/250 [==============================] - 0s 521us/step - loss: 0.3282 - accuracy: 0.8685\n",
      "Epoch 67/100\n",
      "250/250 [==============================] - 0s 509us/step - loss: 0.3281 - accuracy: 0.8680\n",
      "Epoch 68/100\n",
      "250/250 [==============================] - 0s 572us/step - loss: 0.3281 - accuracy: 0.8686\n",
      "Epoch 69/100\n",
      "250/250 [==============================] - 0s 505us/step - loss: 0.3283 - accuracy: 0.8686\n",
      "Epoch 70/100\n",
      "250/250 [==============================] - 0s 520us/step - loss: 0.3284 - accuracy: 0.8675\n",
      "Epoch 71/100\n",
      "250/250 [==============================] - 0s 523us/step - loss: 0.3276 - accuracy: 0.8670\n",
      "Epoch 72/100\n",
      "250/250 [==============================] - 0s 519us/step - loss: 0.3282 - accuracy: 0.8692\n",
      "Epoch 73/100\n",
      "250/250 [==============================] - 0s 505us/step - loss: 0.3275 - accuracy: 0.8686\n",
      "Epoch 74/100\n",
      "250/250 [==============================] - 0s 489us/step - loss: 0.3281 - accuracy: 0.8679\n",
      "Epoch 75/100\n",
      "250/250 [==============================] - 0s 525us/step - loss: 0.3284 - accuracy: 0.8684\n",
      "Epoch 76/100\n",
      "250/250 [==============================] - 0s 505us/step - loss: 0.3283 - accuracy: 0.8661\n",
      "Epoch 77/100\n",
      "250/250 [==============================] - 0s 493us/step - loss: 0.3276 - accuracy: 0.8685\n",
      "Epoch 78/100\n",
      "250/250 [==============================] - 0s 489us/step - loss: 0.3287 - accuracy: 0.8680\n",
      "Epoch 79/100\n",
      "250/250 [==============================] - 0s 497us/step - loss: 0.3275 - accuracy: 0.8673\n",
      "Epoch 80/100\n",
      "250/250 [==============================] - 0s 485us/step - loss: 0.3277 - accuracy: 0.8684\n",
      "Epoch 81/100\n",
      "250/250 [==============================] - 0s 481us/step - loss: 0.3286 - accuracy: 0.8701\n",
      "Epoch 82/100\n",
      "250/250 [==============================] - 0s 497us/step - loss: 0.3271 - accuracy: 0.8702\n",
      "Epoch 83/100\n",
      "250/250 [==============================] - 0s 485us/step - loss: 0.3278 - accuracy: 0.8687\n",
      "Epoch 84/100\n",
      "250/250 [==============================] - 0s 489us/step - loss: 0.3274 - accuracy: 0.8696\n",
      "Epoch 85/100\n",
      "250/250 [==============================] - 0s 477us/step - loss: 0.3288 - accuracy: 0.8686\n",
      "Epoch 86/100\n",
      "250/250 [==============================] - 0s 481us/step - loss: 0.3275 - accuracy: 0.8690\n",
      "Epoch 87/100\n",
      "250/250 [==============================] - 0s 493us/step - loss: 0.3275 - accuracy: 0.8684\n",
      "Epoch 88/100\n",
      "250/250 [==============================] - 0s 481us/step - loss: 0.3278 - accuracy: 0.8670\n",
      "Epoch 89/100\n",
      "250/250 [==============================] - 0s 477us/step - loss: 0.3278 - accuracy: 0.8683\n",
      "Epoch 90/100\n",
      "250/250 [==============================] - 0s 491us/step - loss: 0.3276 - accuracy: 0.8700\n",
      "Epoch 91/100\n",
      "250/250 [==============================] - 0s 485us/step - loss: 0.3278 - accuracy: 0.8684\n",
      "Epoch 92/100\n",
      "250/250 [==============================] - 0s 493us/step - loss: 0.3273 - accuracy: 0.8680\n",
      "Epoch 93/100\n",
      "250/250 [==============================] - 0s 481us/step - loss: 0.3278 - accuracy: 0.8699\n",
      "Epoch 94/100\n",
      "250/250 [==============================] - 0s 477us/step - loss: 0.3278 - accuracy: 0.8671\n",
      "Epoch 95/100\n",
      "250/250 [==============================] - 0s 491us/step - loss: 0.3271 - accuracy: 0.8701\n",
      "Epoch 96/100\n",
      "250/250 [==============================] - 0s 481us/step - loss: 0.3280 - accuracy: 0.8681\n",
      "Epoch 97/100\n",
      "250/250 [==============================] - 0s 481us/step - loss: 0.3271 - accuracy: 0.8698\n",
      "Epoch 98/100\n",
      "250/250 [==============================] - 0s 481us/step - loss: 0.3275 - accuracy: 0.8675\n",
      "Epoch 99/100\n",
      "250/250 [==============================] - 0s 481us/step - loss: 0.3275 - accuracy: 0.8700\n",
      "Epoch 100/100\n",
      "250/250 [==============================] - 0s 485us/step - loss: 0.3275 - accuracy: 0.8680\n"
     ]
    },
    {
     "data": {
      "text/plain": [
       "<keras.callbacks.History at 0x197352a8d00>"
      ]
     },
     "execution_count": 50,
     "metadata": {},
     "output_type": "execute_result"
    }
   ],
   "source": [
    "#Training the ANN on the test set\n",
    "ann.fit(X_train, y_train, batch_size = 32, epochs = 100)"
   ]
  },
  {
   "cell_type": "code",
   "execution_count": 53,
   "metadata": {},
   "outputs": [
    {
     "name": "stdout",
     "output_type": "stream",
     "text": [
      "[[ True]]\n"
     ]
    }
   ],
   "source": [
    "#Predicting the result on single observation\n",
    "print(ann.predict(sc.transform([[1, 0, 0, 600, 1, 40, 3, 60000, 2, 1, 1, 50000]])) > 0.5)"
   ]
  },
  {
   "cell_type": "code",
   "execution_count": 55,
   "metadata": {},
   "outputs": [
    {
     "name": "stdout",
     "output_type": "stream",
     "text": [
      "[[0 0]\n",
      " [0 1]\n",
      " [0 0]\n",
      " ...\n",
      " [0 0]\n",
      " [0 0]\n",
      " [0 0]]\n"
     ]
    }
   ],
   "source": [
    "#Predicting the test set results\n",
    "y_pred = ann.predict(X_test)\n",
    "y_pred = (y_pred > 0.5)\n",
    "print(np.concatenate((y_pred.reshape(len(y_pred),1), y_test.reshape(len(y_test),1)),1))"
   ]
  },
  {
   "cell_type": "code",
   "execution_count": 57,
   "metadata": {},
   "outputs": [
    {
     "name": "stdout",
     "output_type": "stream",
     "text": [
      "[[1522   73]\n",
      " [ 200  205]]\n"
     ]
    },
    {
     "data": {
      "text/plain": [
       "0.8635"
      ]
     },
     "execution_count": 57,
     "metadata": {},
     "output_type": "execute_result"
    }
   ],
   "source": [
    "#Making the confusion matrix\n",
    "from sklearn.metrics import confusion_matrix, accuracy_score\n",
    "cm = confusion_matrix(y_test, y_pred)\n",
    "print(cm)\n",
    "accuracy_score(y_test, y_pred)\n",
    "\n",
    "'''1522 correct predictions that thte customer stays in the bank and 205 correct predictions that the customer leaves the bank\n",
    "73 incorrect predictions that the customer leaves the bank and 200 incorrect predicitons that the customer stays in the bank.'''\n"
   ]
  }
 ],
 "metadata": {
  "kernelspec": {
   "display_name": "Python 3",
   "language": "python",
   "name": "python3"
  },
  "language_info": {
   "codemirror_mode": {
    "name": "ipython",
    "version": 3
   },
   "file_extension": ".py",
   "mimetype": "text/x-python",
   "name": "python",
   "nbconvert_exporter": "python",
   "pygments_lexer": "ipython3",
   "version": "3.8.3"
  }
 },
 "nbformat": 4,
 "nbformat_minor": 4
}

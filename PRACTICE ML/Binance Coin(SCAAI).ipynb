{
 "cells": [
  {
   "cell_type": "code",
   "execution_count": 1,
   "metadata": {
    "executionInfo": {
     "elapsed": 2,
     "status": "ok",
     "timestamp": 1630075719718,
     "user": {
      "displayName": "Swapnil.Biswas Btech2020",
      "photoUrl": "",
      "userId": "10581545405833579740"
     },
     "user_tz": -330
    },
    "id": "eV5XH73CCVhW"
   },
   "outputs": [],
   "source": [
    "from google.colab import drive\n"
   ]
  },
  {
   "cell_type": "code",
   "execution_count": 3,
   "metadata": {
    "colab": {
     "base_uri": "https://localhost:8080/"
    },
    "executionInfo": {
     "elapsed": 1316,
     "status": "ok",
     "timestamp": 1630075811092,
     "user": {
      "displayName": "Swapnil.Biswas Btech2020",
      "photoUrl": "",
      "userId": "10581545405833579740"
     },
     "user_tz": -330
    },
    "id": "2Z7g6yKdDGVm",
    "outputId": "e6465dd1-e9a3-42c6-acb0-ed1f5e73991e"
   },
   "outputs": [
    {
     "name": "stdout",
     "output_type": "stream",
     "text": [
      "Mounted at /content/drive\n"
     ]
    }
   ],
   "source": [
    "drive.mount('/content/drive')"
   ]
  },
  {
   "cell_type": "code",
   "execution_count": 5,
   "metadata": {
    "executionInfo": {
     "elapsed": 337,
     "status": "ok",
     "timestamp": 1630075958824,
     "user": {
      "displayName": "Swapnil.Biswas Btech2020",
      "photoUrl": "",
      "userId": "10581545405833579740"
     },
     "user_tz": -330
    },
    "id": "1iybRZmoGC0z"
   },
   "outputs": [],
   "source": [
    "import pandas as pd"
   ]
  },
  {
   "cell_type": "code",
   "execution_count": 7,
   "metadata": {
    "executionInfo": {
     "elapsed": 348,
     "status": "ok",
     "timestamp": 1630075989448,
     "user": {
      "displayName": "Swapnil.Biswas Btech2020",
      "photoUrl": "",
      "userId": "10581545405833579740"
     },
     "user_tz": -330
    },
    "id": "UcJ9W4L0GJBS"
   },
   "outputs": [],
   "source": [
    "data = pd.read_csv(r'/content/drive/MyDrive/DATASETS/Binance Coin - Historic data.csv')"
   ]
  },
  {
   "cell_type": "code",
   "execution_count": 9,
   "metadata": {
    "colab": {
     "base_uri": "https://localhost:8080/"
    },
    "executionInfo": {
     "elapsed": 348,
     "status": "ok",
     "timestamp": 1630076081815,
     "user": {
      "displayName": "Swapnil.Biswas Btech2020",
      "photoUrl": "",
      "userId": "10581545405833579740"
     },
     "user_tz": -330
    },
    "id": "1aDGmeg2GcEY",
    "outputId": "d736faf6-e595-4fc6-c054-4175e5d0eb87"
   },
   "outputs": [
    {
     "name": "stdout",
     "output_type": "stream",
     "text": [
      "              Date  Price(in dollars)    Open    High     Low     Vol.  Change%\n",
      "0     Jul 27, 2021             303.29  304.31  307.62  298.53    2.26M    -0.33\n",
      "1     Jul 26, 2021             304.31  302.60  327.62  301.19    2.86M     0.58\n",
      "2     Jul 25, 2021             302.57  302.55  303.09  292.85    1.25M    -0.19\n",
      "3     Jul 24, 2021             303.15  298.91  305.01  296.16    1.81M     1.42\n",
      "4     Jul 23, 2021             298.89  293.51  301.15  281.68    1.98M     1.83\n",
      "...            ...                ...     ...     ...     ...      ...      ...\n",
      "1352  Nov 13, 2017               1.68    1.49    1.74    1.49  166.01K    12.75\n",
      "1353  Nov 12, 2017               1.49    1.66    1.70    1.34  456.48K   -10.24\n",
      "1354  Nov 11, 2017               1.66    1.71    1.93    1.58  256.71K    -2.92\n",
      "1355  Nov 10, 2017               1.71    1.99    2.02    1.60  483.23K   -14.07\n",
      "1356  Nov 09, 2017               1.99    1.99    2.20    1.90  283.35K     0.00\n",
      "\n",
      "[1357 rows x 7 columns]\n"
     ]
    }
   ],
   "source": [
    "df =pd.read_csv(r'/content/drive/MyDrive/DATASETS/Binance Coin - Historic data.csv')\n",
    "print(df)"
   ]
  },
  {
   "cell_type": "code",
   "execution_count": 10,
   "metadata": {
    "executionInfo": {
     "elapsed": 2721,
     "status": "ok",
     "timestamp": 1630076103205,
     "user": {
      "displayName": "Swapnil.Biswas Btech2020",
      "photoUrl": "",
      "userId": "10581545405833579740"
     },
     "user_tz": -330
    },
    "id": "nGoj4PFAG0kN"
   },
   "outputs": [],
   "source": [
    "#importing all the python libraries\n",
    "import math \n",
    "import pandas as pd\n",
    "import numpy as np\n",
    "import matplotlib.pyplot as plt\n",
    "from sklearn.preprocessing import MinMaxScaler\n",
    "from keras.models import Sequential\n",
    "from keras.layers import Dense, LSTM , Activation\n"
   ]
  },
  {
   "cell_type": "code",
   "execution_count": 11,
   "metadata": {
    "colab": {
     "base_uri": "https://localhost:8080/"
    },
    "executionInfo": {
     "elapsed": 369,
     "status": "ok",
     "timestamp": 1630076114340,
     "user": {
      "displayName": "Swapnil.Biswas Btech2020",
      "photoUrl": "",
      "userId": "10581545405833579740"
     },
     "user_tz": -330
    },
    "id": "7ezVAfDfG4Zx",
    "outputId": "b9e68ee0-bfd3-4cae-8aa3-883dac8df782"
   },
   "outputs": [
    {
     "name": "stdout",
     "output_type": "stream",
     "text": [
      "              Date  Price(in dollars)    Open    High     Low     Vol.  Change%\n",
      "0     Jul 27, 2021             303.29  304.31  307.62  298.53    2.26M    -0.33\n",
      "1     Jul 26, 2021             304.31  302.60  327.62  301.19    2.86M     0.58\n",
      "2     Jul 25, 2021             302.57  302.55  303.09  292.85    1.25M    -0.19\n",
      "3     Jul 24, 2021             303.15  298.91  305.01  296.16    1.81M     1.42\n",
      "4     Jul 23, 2021             298.89  293.51  301.15  281.68    1.98M     1.83\n",
      "...            ...                ...     ...     ...     ...      ...      ...\n",
      "1352  Nov 13, 2017               1.68    1.49    1.74    1.49  166.01K    12.75\n",
      "1353  Nov 12, 2017               1.49    1.66    1.70    1.34  456.48K   -10.24\n",
      "1354  Nov 11, 2017               1.66    1.71    1.93    1.58  256.71K    -2.92\n",
      "1355  Nov 10, 2017               1.71    1.99    2.02    1.60  483.23K   -14.07\n",
      "1356  Nov 09, 2017               1.99    1.99    2.20    1.90  283.35K     0.00\n",
      "\n",
      "[1357 rows x 7 columns]\n"
     ]
    }
   ],
   "source": [
    "#making a deep copy of the dataset\n",
    "x = df.copy(deep=True)\n",
    "print(x)"
   ]
  },
  {
   "cell_type": "code",
   "execution_count": 12,
   "metadata": {
    "colab": {
     "base_uri": "https://localhost:8080/"
    },
    "executionInfo": {
     "elapsed": 348,
     "status": "ok",
     "timestamp": 1630076123146,
     "user": {
      "displayName": "Swapnil.Biswas Btech2020",
      "photoUrl": "",
      "userId": "10581545405833579740"
     },
     "user_tz": -330
    },
    "id": "FwpPnuJHG61Z",
    "outputId": "248cceae-2805-4eb8-ab1c-b507df55cd5c"
   },
   "outputs": [
    {
     "name": "stdout",
     "output_type": "stream",
     "text": [
      "<class 'pandas.core.frame.DataFrame'>\n",
      "RangeIndex: 1357 entries, 0 to 1356\n",
      "Data columns (total 7 columns):\n",
      " #   Column             Non-Null Count  Dtype  \n",
      "---  ------             --------------  -----  \n",
      " 0   Date               1357 non-null   object \n",
      " 1   Price(in dollars)  1357 non-null   float64\n",
      " 2   Open               1357 non-null   float64\n",
      " 3   High               1357 non-null   float64\n",
      " 4   Low                1357 non-null   float64\n",
      " 5   Vol.               1357 non-null   object \n",
      " 6   Change%            1357 non-null   float64\n",
      "dtypes: float64(5), object(2)\n",
      "memory usage: 74.3+ KB\n"
     ]
    }
   ],
   "source": [
    "#getting the info of the dataset\n",
    "df.info()"
   ]
  },
  {
   "cell_type": "code",
   "execution_count": 13,
   "metadata": {
    "colab": {
     "base_uri": "https://localhost:8080/"
    },
    "executionInfo": {
     "elapsed": 349,
     "status": "ok",
     "timestamp": 1630076131409,
     "user": {
      "displayName": "Swapnil.Biswas Btech2020",
      "photoUrl": "",
      "userId": "10581545405833579740"
     },
     "user_tz": -330
    },
    "id": "luZLiN61G790",
    "outputId": "dafdb4e7-2c62-40c2-bd31-5c9a20f9ebc4"
   },
   "outputs": [
    {
     "data": {
      "text/plain": [
       "(1357, 7)"
      ]
     },
     "execution_count": 13,
     "metadata": {},
     "output_type": "execute_result"
    }
   ],
   "source": [
    "#getting the number of rows and columns\n",
    "df.shape"
   ]
  },
  {
   "cell_type": "code",
   "execution_count": 14,
   "metadata": {
    "colab": {
     "base_uri": "https://localhost:8080/",
     "height": 359
    },
    "executionInfo": {
     "elapsed": 681,
     "status": "ok",
     "timestamp": 1630076144187,
     "user": {
      "displayName": "Swapnil.Biswas Btech2020",
      "photoUrl": "",
      "userId": "10581545405833579740"
     },
     "user_tz": -330
    },
    "id": "umaz4d0oG_-7",
    "outputId": "c5dcd938-8b7e-4396-f0fe-97b1554fdf7c"
   },
   "outputs": [
    {
     "data": {
      "image/png": "[encoded data removed]",
      "text/plain": [
       "<Figure size 1152x576 with 1 Axes>"
      ]
     },
     "metadata": {
      "needs_background": "light"
     },
     "output_type": "display_data"
    }
   ],
   "source": [
    "#visualize the open price history\n",
    "plt.figure(figsize = (16,8))\n",
    "\n",
    "font1 = {'family':'serif','color':'red','size':20}\n",
    "\n",
    "plt.title(\"Open Price History\" , fontdict = font1)\n",
    "plt.plot(df['Open'])\n",
    "plt.xlabel('Date' , fontsize=18)\n",
    "plt.ylabel('Opening Price USD($)' , fontsize=18)\n",
    "plt.grid(color = 'green', linestyle = '--', linewidth = 0.5)\n",
    "plt.show()"
   ]
  },
  {
   "cell_type": "code",
   "execution_count": 15,
   "metadata": {
    "colab": {
     "base_uri": "https://localhost:8080/"
    },
    "executionInfo": {
     "elapsed": 335,
     "status": "ok",
     "timestamp": 1630076151914,
     "user": {
      "displayName": "Swapnil.Biswas Btech2020",
      "photoUrl": "",
      "userId": "10581545405833579740"
     },
     "user_tz": -330
    },
    "id": "9zdADU2kHB41",
    "outputId": "b318071e-7371-4274-a780-a3f0e55e8163"
   },
   "outputs": [
    {
     "data": {
      "text/plain": [
       "1086"
      ]
     },
     "execution_count": 15,
     "metadata": {},
     "output_type": "execute_result"
    }
   ],
   "source": [
    "#create new dataframe with 'Open column'\n",
    "data = df.filter(['Open'])\n",
    "\n",
    "#converting the dataframe into numpy arrays\n",
    "dataset = data.values\n",
    "\n",
    "#Getting the number of rows to train the model\n",
    "#taking 80 percent of the data(since we multiplied by 0.8) [training data set]\n",
    "training_data_len = math.ceil(len(dataset)* .8)\n",
    "training_data_len"
   ]
  },
  {
   "cell_type": "code",
   "execution_count": 16,
   "metadata": {
    "colab": {
     "base_uri": "https://localhost:8080/"
    },
    "executionInfo": {
     "elapsed": 340,
     "status": "ok",
     "timestamp": 1630076158286,
     "user": {
      "displayName": "Swapnil.Biswas Btech2020",
      "photoUrl": "",
      "userId": "10581545405833579740"
     },
     "user_tz": -330
    },
    "id": "TB3c1KPCHDf-",
    "outputId": "903a0c9d-a423-491e-d27b-d75f8528acef"
   },
   "outputs": [
    {
     "data": {
      "text/plain": [
       "array([[4.48781789e-01],\n",
       "       [4.46247555e-01],\n",
       "       [4.46173454e-01],\n",
       "       ...,\n",
       "       [3.26041852e-04],\n",
       "       [7.41004209e-04],\n",
       "       [7.41004209e-04]])"
      ]
     },
     "execution_count": 16,
     "metadata": {},
     "output_type": "execute_result"
    }
   ],
   "source": [
    "#scale the data\n",
    "scaler = MinMaxScaler(feature_range=(0,1))\n",
    "scaled_data = scaler.fit_transform(dataset)\n",
    "scaled_data"
   ]
  },
  {
   "cell_type": "code",
   "execution_count": 17,
   "metadata": {
    "colab": {
     "base_uri": "https://localhost:8080/"
    },
    "executionInfo": {
     "elapsed": 384,
     "status": "ok",
     "timestamp": 1630076166722,
     "user": {
      "displayName": "Swapnil.Biswas Btech2020",
      "photoUrl": "",
      "userId": "10581545405833579740"
     },
     "user_tz": -330
    },
    "id": "Xel5BEZaHFgN",
    "outputId": "9d669730-447d-4002-8a81-1fe52cf2e15d"
   },
   "outputs": [
    {
     "name": "stdout",
     "output_type": "stream",
     "text": [
      "[array([0.44878179, 0.44624755, 0.44617345, 0.44077894, 0.4327761 ,\n",
      "       0.43213883, 0.38991641, 0.41346553, 0.44559547, 0.44289822,\n",
      "       0.44666252, 0.4655433 , 0.45645859, 0.45567313, 0.46632877,\n",
      "       0.47486514, 0.46621021, 0.46724761, 0.45798506, 0.48337187,\n",
      "       0.47204932, 0.44537317, 0.45407256, 0.44128283, 0.42367657,\n",
      "       0.42407671, 0.44719604, 0.44221649, 0.42735195, 0.4288636 ,\n",
      "       0.41193906, 0.41445847, 0.45509514, 0.43665896, 0.38529255,\n",
      "       0.40061652, 0.50032604, 0.49300492, 0.49679886, 0.5204369 ,\n",
      "       0.51225621, 0.54134803, 0.54625348, 0.53995495, 0.50650602,\n",
      "       0.5099591 , 0.51865849, 0.55433043, 0.52025906, 0.52842492,\n",
      "       0.58056198, 0.57590847, 0.57678286, 0.63278795, 0.59226984,\n",
      "       0.53485684, 0.52187444, 0.48033375, 0.44952279, 0.485832  ])]\n",
      "[0.5458237002786176]\n",
      "\n",
      "[array([0.44878179, 0.44624755, 0.44617345, 0.44077894, 0.4327761 ,\n",
      "       0.43213883, 0.38991641, 0.41346553, 0.44559547, 0.44289822,\n",
      "       0.44666252, 0.4655433 , 0.45645859, 0.45567313, 0.46632877,\n",
      "       0.47486514, 0.46621021, 0.46724761, 0.45798506, 0.48337187,\n",
      "       0.47204932, 0.44537317, 0.45407256, 0.44128283, 0.42367657,\n",
      "       0.42407671, 0.44719604, 0.44221649, 0.42735195, 0.4288636 ,\n",
      "       0.41193906, 0.41445847, 0.45509514, 0.43665896, 0.38529255,\n",
      "       0.40061652, 0.50032604, 0.49300492, 0.49679886, 0.5204369 ,\n",
      "       0.51225621, 0.54134803, 0.54625348, 0.53995495, 0.50650602,\n",
      "       0.5099591 , 0.51865849, 0.55433043, 0.52025906, 0.52842492,\n",
      "       0.58056198, 0.57590847, 0.57678286, 0.63278795, 0.59226984,\n",
      "       0.53485684, 0.52187444, 0.48033375, 0.44952279, 0.485832  ]), array([0.44624755, 0.44617345, 0.44077894, 0.4327761 , 0.43213883,\n",
      "       0.38991641, 0.41346553, 0.44559547, 0.44289822, 0.44666252,\n",
      "       0.4655433 , 0.45645859, 0.45567313, 0.46632877, 0.47486514,\n",
      "       0.46621021, 0.46724761, 0.45798506, 0.48337187, 0.47204932,\n",
      "       0.44537317, 0.45407256, 0.44128283, 0.42367657, 0.42407671,\n",
      "       0.44719604, 0.44221649, 0.42735195, 0.4288636 , 0.41193906,\n",
      "       0.41445847, 0.45509514, 0.43665896, 0.38529255, 0.40061652,\n",
      "       0.50032604, 0.49300492, 0.49679886, 0.5204369 , 0.51225621,\n",
      "       0.54134803, 0.54625348, 0.53995495, 0.50650602, 0.5099591 ,\n",
      "       0.51865849, 0.55433043, 0.52025906, 0.52842492, 0.58056198,\n",
      "       0.57590847, 0.57678286, 0.63278795, 0.59226984, 0.53485684,\n",
      "       0.52187444, 0.48033375, 0.44952279, 0.485832  , 0.5458237 ])]\n",
      "[0.5458237002786176, 0.5597693994901891]\n",
      "\n"
     ]
    }
   ],
   "source": [
    "#creating training data set\n",
    "#creating the scaled training data set\n",
    "train_data = scaled_data[0:training_data_len , :]\n",
    "#split the data into x_train and y_train\n",
    "x_train = []\n",
    "y_train = []\n",
    "\n",
    "for i in range(60 , len(train_data)):\n",
    "    x_train.append(train_data[i-60:i , 0])\n",
    "    y_train.append(train_data[i,0])\n",
    "    if i<=61:\n",
    "        print(x_train)\n",
    "        print(y_train)\n",
    "        print()"
   ]
  },
  {
   "cell_type": "code",
   "execution_count": 19,
   "metadata": {
    "executionInfo": {
     "elapsed": 343,
     "status": "ok",
     "timestamp": 1630076411896,
     "user": {
      "displayName": "Swapnil.Biswas Btech2020",
      "photoUrl": "",
      "userId": "10581545405833579740"
     },
     "user_tz": -330
    },
    "id": "tuLQpGZlHHbZ"
   },
   "outputs": [],
   "source": [
    "#convert the x_train and y_train to numpy arrays\n",
    "x_train, y_train = np.array(x_train), np.array(y_train)"
   ]
  },
  {
   "cell_type": "code",
   "execution_count": 20,
   "metadata": {
    "colab": {
     "base_uri": "https://localhost:8080/"
    },
    "executionInfo": {
     "elapsed": 340,
     "status": "ok",
     "timestamp": 1630076419600,
     "user": {
      "displayName": "Swapnil.Biswas Btech2020",
      "photoUrl": "",
      "userId": "10581545405833579740"
     },
     "user_tz": -330
    },
    "id": "3r1mCsHIICdw",
    "outputId": "24ac4307-0e45-4137-c8d8-d56e7e83fada"
   },
   "outputs": [
    {
     "data": {
      "text/plain": [
       "(1026, 60, 1)"
      ]
     },
     "execution_count": 20,
     "metadata": {},
     "output_type": "execute_result"
    }
   ],
   "source": [
    "#Reshape the data\n",
    "x_train = np.reshape(x_train , (x_train.shape[0] , x_train.shape[1] , 1))\n",
    "x_train.shape"
   ]
  },
  {
   "cell_type": "code",
   "execution_count": 21,
   "metadata": {
    "executionInfo": {
     "elapsed": 1292,
     "status": "ok",
     "timestamp": 1630076427998,
     "user": {
      "displayName": "Swapnil.Biswas Btech2020",
      "photoUrl": "",
      "userId": "10581545405833579740"
     },
     "user_tz": -330
    },
    "id": "TrcDyxkDIFHD"
   },
   "outputs": [],
   "source": [
    "#Build the LSTM(Long Short Term Model) model\n",
    "model = Sequential()\n",
    "model.add(LSTM(units=50, return_sequences=True, input_shape=(x_train.shape[1], 1))) \n",
    "model.add(LSTM(units=50, return_sequences=True))\n",
    "model.add(LSTM(units=50))\n",
    "model.add(Dense(units=1)) #prediction of the next closing value"
   ]
  },
  {
   "cell_type": "code",
   "execution_count": 22,
   "metadata": {
    "executionInfo": {
     "elapsed": 579,
     "status": "ok",
     "timestamp": 1630076442103,
     "user": {
      "displayName": "Swapnil.Biswas Btech2020",
      "photoUrl": "",
      "userId": "10581545405833579740"
     },
     "user_tz": -330
    },
    "id": "Hjes4LDfIIiN"
   },
   "outputs": [],
   "source": [
    "#compile the model\n",
    "model.compile(optimizer= 'adam' , loss='mean_squared_error')"
   ]
  },
  {
   "cell_type": "code",
   "execution_count": 23,
   "metadata": {
    "colab": {
     "base_uri": "https://localhost:8080/"
    },
    "executionInfo": {
     "elapsed": 44847,
     "status": "ok",
     "timestamp": 1630076496477,
     "user": {
      "displayName": "Swapnil.Biswas Btech2020",
      "photoUrl": "",
      "userId": "10581545405833579740"
     },
     "user_tz": -330
    },
    "id": "EsznX_YbILJw",
    "outputId": "a50778a1-b72d-48fc-cd17-b2fb591bbcb8"
   },
   "outputs": [
    {
     "name": "stdout",
     "output_type": "stream",
     "text": [
      "1026/1026 [==============================] - 44s 40ms/step - loss: 0.0053\n"
     ]
    },
    {
     "data": {
      "text/plain": [
       "<keras.callbacks.History at 0x7f8c5fbda490>"
      ]
     },
     "execution_count": 23,
     "metadata": {},
     "output_type": "execute_result"
    }
   ],
   "source": [
    "#train the model\n",
    "model.fit(x_train , y_train , batch_size=1 , epochs=1)"
   ]
  },
  {
   "cell_type": "code",
   "execution_count": 25,
   "metadata": {
    "executionInfo": {
     "elapsed": 440,
     "status": "ok",
     "timestamp": 1630076512595,
     "user": {
      "displayName": "Swapnil.Biswas Btech2020",
      "photoUrl": "",
      "userId": "10581545405833579740"
     },
     "user_tz": -330
    },
    "id": "zNZPCJ6wIXXI"
   },
   "outputs": [],
   "source": [
    "#create the training data set\n",
    "test_data = scaled_data[training_data_len - 60: , :]\n",
    "#create the data sets x_tests and y_tests\n",
    "x_test = []\n",
    "y_test = dataset[training_data_len:, :]\n",
    "for i in range(60, len(test_data)):\n",
    "    x_test.append(test_data[i-60:i, 0])"
   ]
  },
  {
   "cell_type": "code",
   "execution_count": 26,
   "metadata": {
    "executionInfo": {
     "elapsed": 338,
     "status": "ok",
     "timestamp": 1630076518780,
     "user": {
      "displayName": "Swapnil.Biswas Btech2020",
      "photoUrl": "",
      "userId": "10581545405833579740"
     },
     "user_tz": -330
    },
    "id": "xE-y25-DIbgR"
   },
   "outputs": [],
   "source": [
    "#convert the data to a numpy aray\n",
    "x_test = np.array(x_test)"
   ]
  },
  {
   "cell_type": "code",
   "execution_count": 29,
   "metadata": {
    "executionInfo": {
     "elapsed": 363,
     "status": "ok",
     "timestamp": 1630077263845,
     "user": {
      "displayName": "Swapnil.Biswas Btech2020",
      "photoUrl": "",
      "userId": "10581545405833579740"
     },
     "user_tz": -330
    },
    "id": "nz-k2PqWIuw9"
   },
   "outputs": [],
   "source": [
    "#reshape the data\n",
    "x_test = np.reshape(x_test, (x_test.shape[0] , x_test.shape[1] , 1))"
   ]
  },
  {
   "cell_type": "code",
   "execution_count": 30,
   "metadata": {
    "executionInfo": {
     "elapsed": 1407,
     "status": "ok",
     "timestamp": 1630077280236,
     "user": {
      "displayName": "Swapnil.Biswas Btech2020",
      "photoUrl": "",
      "userId": "10581545405833579740"
     },
     "user_tz": -330
    },
    "id": "xlQoHNggK5DQ"
   },
   "outputs": [],
   "source": [
    "#get the models predicted price values\n",
    "predictions = model.predict(x_test)\n",
    "predictions = scaler.inverse_transform(predictions)"
   ]
  },
  {
   "cell_type": "code",
   "execution_count": 31,
   "metadata": {
    "colab": {
     "base_uri": "https://localhost:8080/"
    },
    "executionInfo": {
     "elapsed": 344,
     "status": "ok",
     "timestamp": 1630077393504,
     "user": {
      "displayName": "Swapnil.Biswas Btech2020",
      "photoUrl": "",
      "userId": "10581545405833579740"
     },
     "user_tz": -330
    },
    "id": "Q_4PO4XhLfa1",
    "outputId": "3752b7e0-e90b-4f58-f585-6cd886dd9a44"
   },
   "outputs": [
    {
     "data": {
      "text/plain": [
       "7.874880801553656"
      ]
     },
     "execution_count": 31,
     "metadata": {},
     "output_type": "execute_result"
    }
   ],
   "source": [
    "#get the root mean squared error(RMSE)\n",
    "rmse = np.sqrt(np.mean(predictions - y_test)**2)\n",
    "rmse"
   ]
  },
  {
   "cell_type": "code",
   "execution_count": 34,
   "metadata": {
    "colab": {
     "base_uri": "https://localhost:8080/",
     "height": 1000
    },
    "executionInfo": {
     "elapsed": 634,
     "status": "error",
     "timestamp": 1630077810896,
     "user": {
      "displayName": "Swapnil.Biswas Btech2020",
      "photoUrl": "",
      "userId": "10581545405833579740"
     },
     "user_tz": -330
    },
    "id": "EdOr3156LycM",
    "outputId": "81b8f81c-97bf-4399-d7ff-8186b1f45a96"
   },
   "outputs": [
    {
     "name": "stderr",
     "output_type": "stream",
     "text": [
      "/usr/local/lib/python3.7/dist-packages/ipykernel_launcher.py:4: SettingWithCopyWarning: \n",
      "A value is trying to be set on a copy of a slice from a DataFrame.\n",
      "Try using .loc[row_indexer,col_indexer] = value instead\n",
      "\n",
      "See the caveats in the documentation: https://pandas.pydata.org/pandas-docs/stable/user_guide/indexing.html#returning-a-view-versus-a-copy\n",
      "  after removing the cwd from sys.path.\n"
     ]
    },
    {
     "ename": "KeyError",
     "evalue": "ignored",
     "output_type": "error",
     "traceback": [
      "\u001b[0;31m---------------------------------------------------------------------------\u001b[0m",
      "\u001b[0;31mKeyError\u001b[0m                                  Traceback (most recent call last)",
      "\u001b[0;32m/usr/local/lib/python3.7/dist-packages/pandas/core/indexes/base.py\u001b[0m in \u001b[0;36mget_loc\u001b[0;34m(self, key, method, tolerance)\u001b[0m\n\u001b[1;32m   2897\u001b[0m             \u001b[0;32mtry\u001b[0m\u001b[0;34m:\u001b[0m\u001b[0;34m\u001b[0m\u001b[0;34m\u001b[0m\u001b[0m\n\u001b[0;32m-> 2898\u001b[0;31m                 \u001b[0;32mreturn\u001b[0m \u001b[0mself\u001b[0m\u001b[0;34m.\u001b[0m\u001b[0m_engine\u001b[0m\u001b[0;34m.\u001b[0m\u001b[0mget_loc\u001b[0m\u001b[0;34m(\u001b[0m\u001b[0mcasted_key\u001b[0m\u001b[0;34m)\u001b[0m\u001b[0;34m\u001b[0m\u001b[0;34m\u001b[0m\u001b[0m\n\u001b[0m\u001b[1;32m   2899\u001b[0m             \u001b[0;32mexcept\u001b[0m \u001b[0mKeyError\u001b[0m \u001b[0;32mas\u001b[0m \u001b[0merr\u001b[0m\u001b[0;34m:\u001b[0m\u001b[0;34m\u001b[0m\u001b[0;34m\u001b[0m\u001b[0m\n",
      "\u001b[0;32mpandas/_libs/index.pyx\u001b[0m in \u001b[0;36mpandas._libs.index.IndexEngine.get_loc\u001b[0;34m()\u001b[0m\n",
      "\u001b[0;32mpandas/_libs/index.pyx\u001b[0m in \u001b[0;36mpandas._libs.index.IndexEngine.get_loc\u001b[0;34m()\u001b[0m\n",
      "\u001b[0;32mpandas/_libs/hashtable_class_helper.pxi\u001b[0m in \u001b[0;36mpandas._libs.hashtable.PyObjectHashTable.get_item\u001b[0;34m()\u001b[0m\n",
      "\u001b[0;32mpandas/_libs/hashtable_class_helper.pxi\u001b[0m in \u001b[0;36mpandas._libs.hashtable.PyObjectHashTable.get_item\u001b[0;34m()\u001b[0m\n",
      "\u001b[0;31mKeyError\u001b[0m: ('Open', 'Predicitions')",
      "\nThe above exception was the direct cause of the following exception:\n",
      "\u001b[0;31mKeyError\u001b[0m                                  Traceback (most recent call last)",
      "\u001b[0;32m<ipython-input-34-b6eaeb220dc4>\u001b[0m in \u001b[0;36m<module>\u001b[0;34m()\u001b[0m\n\u001b[1;32m     10\u001b[0m \u001b[0mplt\u001b[0m\u001b[0;34m.\u001b[0m\u001b[0mylabel\u001b[0m\u001b[0;34m(\u001b[0m\u001b[0;34m'Opening Price USD($)'\u001b[0m \u001b[0;34m,\u001b[0m \u001b[0mfontsize\u001b[0m\u001b[0;34m=\u001b[0m\u001b[0;36m18\u001b[0m\u001b[0;34m)\u001b[0m\u001b[0;34m\u001b[0m\u001b[0;34m\u001b[0m\u001b[0m\n\u001b[1;32m     11\u001b[0m \u001b[0mplt\u001b[0m\u001b[0;34m.\u001b[0m\u001b[0mplot\u001b[0m\u001b[0;34m(\u001b[0m\u001b[0mtrain\u001b[0m\u001b[0;34m[\u001b[0m\u001b[0;34m'Open'\u001b[0m\u001b[0;34m]\u001b[0m\u001b[0;34m)\u001b[0m\u001b[0;34m\u001b[0m\u001b[0;34m\u001b[0m\u001b[0m\n\u001b[0;32m---> 12\u001b[0;31m \u001b[0mplt\u001b[0m\u001b[0;34m.\u001b[0m\u001b[0mplot\u001b[0m\u001b[0;34m(\u001b[0m\u001b[0mvalid\u001b[0m\u001b[0;34m[\u001b[0m\u001b[0;34m'Open'\u001b[0m \u001b[0;34m,\u001b[0m \u001b[0;34m'Predicitions'\u001b[0m\u001b[0;34m]\u001b[0m\u001b[0;34m)\u001b[0m\u001b[0;34m\u001b[0m\u001b[0;34m\u001b[0m\u001b[0m\n\u001b[0m\u001b[1;32m     13\u001b[0m \u001b[0mplt\u001b[0m\u001b[0;34m.\u001b[0m\u001b[0mlegend\u001b[0m\u001b[0;34m(\u001b[0m\u001b[0;34m[\u001b[0m\u001b[0;34m'Train'\u001b[0m \u001b[0;34m,\u001b[0m \u001b[0;34m'Val'\u001b[0m \u001b[0;34m,\u001b[0m \u001b[0;34m'Predicitons'\u001b[0m\u001b[0;34m]\u001b[0m\u001b[0;34m,\u001b[0m \u001b[0mloc\u001b[0m\u001b[0;34m=\u001b[0m\u001b[0;34m'lower right'\u001b[0m\u001b[0;34m)\u001b[0m\u001b[0;34m\u001b[0m\u001b[0;34m\u001b[0m\u001b[0m\n\u001b[1;32m     14\u001b[0m \u001b[0mplt\u001b[0m\u001b[0;34m.\u001b[0m\u001b[0mshow\u001b[0m\u001b[0;34m(\u001b[0m\u001b[0;34m)\u001b[0m\u001b[0;34m\u001b[0m\u001b[0;34m\u001b[0m\u001b[0m\n",
      "\u001b[0;32m/usr/local/lib/python3.7/dist-packages/pandas/core/frame.py\u001b[0m in \u001b[0;36m__getitem__\u001b[0;34m(self, key)\u001b[0m\n\u001b[1;32m   2904\u001b[0m             \u001b[0;32mif\u001b[0m \u001b[0mself\u001b[0m\u001b[0;34m.\u001b[0m\u001b[0mcolumns\u001b[0m\u001b[0;34m.\u001b[0m\u001b[0mnlevels\u001b[0m \u001b[0;34m>\u001b[0m \u001b[0;36m1\u001b[0m\u001b[0;34m:\u001b[0m\u001b[0;34m\u001b[0m\u001b[0;34m\u001b[0m\u001b[0m\n\u001b[1;32m   2905\u001b[0m                 \u001b[0;32mreturn\u001b[0m \u001b[0mself\u001b[0m\u001b[0;34m.\u001b[0m\u001b[0m_getitem_multilevel\u001b[0m\u001b[0;34m(\u001b[0m\u001b[0mkey\u001b[0m\u001b[0;34m)\u001b[0m\u001b[0;34m\u001b[0m\u001b[0;34m\u001b[0m\u001b[0m\n\u001b[0;32m-> 2906\u001b[0;31m             \u001b[0mindexer\u001b[0m \u001b[0;34m=\u001b[0m \u001b[0mself\u001b[0m\u001b[0;34m.\u001b[0m\u001b[0mcolumns\u001b[0m\u001b[0;34m.\u001b[0m\u001b[0mget_loc\u001b[0m\u001b[0;34m(\u001b[0m\u001b[0mkey\u001b[0m\u001b[0;34m)\u001b[0m\u001b[0;34m\u001b[0m\u001b[0;34m\u001b[0m\u001b[0m\n\u001b[0m\u001b[1;32m   2907\u001b[0m             \u001b[0;32mif\u001b[0m \u001b[0mis_integer\u001b[0m\u001b[0;34m(\u001b[0m\u001b[0mindexer\u001b[0m\u001b[0;34m)\u001b[0m\u001b[0;34m:\u001b[0m\u001b[0;34m\u001b[0m\u001b[0;34m\u001b[0m\u001b[0m\n\u001b[1;32m   2908\u001b[0m                 \u001b[0mindexer\u001b[0m \u001b[0;34m=\u001b[0m \u001b[0;34m[\u001b[0m\u001b[0mindexer\u001b[0m\u001b[0;34m]\u001b[0m\u001b[0;34m\u001b[0m\u001b[0;34m\u001b[0m\u001b[0m\n",
      "\u001b[0;32m/usr/local/lib/python3.7/dist-packages/pandas/core/indexes/base.py\u001b[0m in \u001b[0;36mget_loc\u001b[0;34m(self, key, method, tolerance)\u001b[0m\n\u001b[1;32m   2898\u001b[0m                 \u001b[0;32mreturn\u001b[0m \u001b[0mself\u001b[0m\u001b[0;34m.\u001b[0m\u001b[0m_engine\u001b[0m\u001b[0;34m.\u001b[0m\u001b[0mget_loc\u001b[0m\u001b[0;34m(\u001b[0m\u001b[0mcasted_key\u001b[0m\u001b[0;34m)\u001b[0m\u001b[0;34m\u001b[0m\u001b[0;34m\u001b[0m\u001b[0m\n\u001b[1;32m   2899\u001b[0m             \u001b[0;32mexcept\u001b[0m \u001b[0mKeyError\u001b[0m \u001b[0;32mas\u001b[0m \u001b[0merr\u001b[0m\u001b[0;34m:\u001b[0m\u001b[0;34m\u001b[0m\u001b[0;34m\u001b[0m\u001b[0m\n\u001b[0;32m-> 2900\u001b[0;31m                 \u001b[0;32mraise\u001b[0m \u001b[0mKeyError\u001b[0m\u001b[0;34m(\u001b[0m\u001b[0mkey\u001b[0m\u001b[0;34m)\u001b[0m \u001b[0;32mfrom\u001b[0m \u001b[0merr\u001b[0m\u001b[0;34m\u001b[0m\u001b[0;34m\u001b[0m\u001b[0m\n\u001b[0m\u001b[1;32m   2901\u001b[0m \u001b[0;34m\u001b[0m\u001b[0m\n\u001b[1;32m   2902\u001b[0m         \u001b[0;32mif\u001b[0m \u001b[0mtolerance\u001b[0m \u001b[0;32mis\u001b[0m \u001b[0;32mnot\u001b[0m \u001b[0;32mNone\u001b[0m\u001b[0;34m:\u001b[0m\u001b[0;34m\u001b[0m\u001b[0;34m\u001b[0m\u001b[0m\n",
      "\u001b[0;31mKeyError\u001b[0m: ('Open', 'Predicitions')"
     ]
    },
    {
     "data": {
      "image/png": "[encoded data removed]",
      "text/plain": [
       "<Figure size 1152x576 with 1 Axes>"
      ]
     },
     "metadata": {
      "needs_background": "light"
     },
     "output_type": "display_data"
    }
   ],
   "source": [
    "#Plot the data\n",
    "train = data[:training_data_len]\n",
    "valid = data[training_data_len:]\n",
    "valid['Predictions'] = predictions\n",
    "\n",
    "#Visualize the data\n",
    "plt.figure(figsize=(16,8))\n",
    "plt.title('Model')\n",
    "plt.xlabel('Date' , fontsize=18)\n",
    "plt.ylabel('Opening Price USD($)' , fontsize=18)\n",
    "plt.plot(train['Open'])\n",
    "plt.plot(valid['Open' , 'Predicitions'])\n",
    "plt.legend(['Train' , 'Val' , 'Predicitons'], loc='lower right')\n",
    "plt.show()"
   ]
  },
  {
   "cell_type": "code",
   "execution_count": 35,
   "metadata": {
    "colab": {
     "base_uri": "https://localhost:8080/",
     "height": 417
    },
    "executionInfo": {
     "elapsed": 342,
     "status": "ok",
     "timestamp": 1630077851369,
     "user": {
      "displayName": "Swapnil.Biswas Btech2020",
      "photoUrl": "",
      "userId": "10581545405833579740"
     },
     "user_tz": -330
    },
    "id": "Uk3XDChTNdMO",
    "outputId": "da2d48a6-9f5e-4e58-bb48-99934031975d"
   },
   "outputs": [
    {
     "data": {
      "text/html": [
       "<div>\n",
       "<style scoped>\n",
       "    .dataframe tbody tr th:only-of-type {\n",
       "        vertical-align: middle;\n",
       "    }\n",
       "\n",
       "    .dataframe tbody tr th {\n",
       "        vertical-align: top;\n",
       "    }\n",
       "\n",
       "    .dataframe thead th {\n",
       "        text-align: right;\n",
       "    }\n",
       "</style>\n",
       "<table border=\"1\" class=\"dataframe\">\n",
       "  <thead>\n",
       "    <tr style=\"text-align: right;\">\n",
       "      <th></th>\n",
       "      <th>Open</th>\n",
       "      <th>Predictions</th>\n",
       "    </tr>\n",
       "  </thead>\n",
       "  <tbody>\n",
       "    <tr>\n",
       "      <th>1086</th>\n",
       "      <td>13.64</td>\n",
       "      <td>3.120518</td>\n",
       "    </tr>\n",
       "    <tr>\n",
       "      <th>1087</th>\n",
       "      <td>13.85</td>\n",
       "      <td>3.474604</td>\n",
       "    </tr>\n",
       "    <tr>\n",
       "      <th>1088</th>\n",
       "      <td>14.13</td>\n",
       "      <td>3.837038</td>\n",
       "    </tr>\n",
       "    <tr>\n",
       "      <th>1089</th>\n",
       "      <td>14.16</td>\n",
       "      <td>4.198379</td>\n",
       "    </tr>\n",
       "    <tr>\n",
       "      <th>1090</th>\n",
       "      <td>13.65</td>\n",
       "      <td>4.546947</td>\n",
       "    </tr>\n",
       "    <tr>\n",
       "      <th>...</th>\n",
       "      <td>...</td>\n",
       "      <td>...</td>\n",
       "    </tr>\n",
       "    <tr>\n",
       "      <th>1352</th>\n",
       "      <td>1.49</td>\n",
       "      <td>-6.703808</td>\n",
       "    </tr>\n",
       "    <tr>\n",
       "      <th>1353</th>\n",
       "      <td>1.66</td>\n",
       "      <td>-6.714175</td>\n",
       "    </tr>\n",
       "    <tr>\n",
       "      <th>1354</th>\n",
       "      <td>1.71</td>\n",
       "      <td>-6.720034</td>\n",
       "    </tr>\n",
       "    <tr>\n",
       "      <th>1355</th>\n",
       "      <td>1.99</td>\n",
       "      <td>-6.719836</td>\n",
       "    </tr>\n",
       "    <tr>\n",
       "      <th>1356</th>\n",
       "      <td>1.99</td>\n",
       "      <td>-6.707297</td>\n",
       "    </tr>\n",
       "  </tbody>\n",
       "</table>\n",
       "<p>271 rows × 2 columns</p>\n",
       "</div>"
      ],
      "text/plain": [
       "       Open  Predictions\n",
       "1086  13.64     3.120518\n",
       "1087  13.85     3.474604\n",
       "1088  14.13     3.837038\n",
       "1089  14.16     4.198379\n",
       "1090  13.65     4.546947\n",
       "...     ...          ...\n",
       "1352   1.49    -6.703808\n",
       "1353   1.66    -6.714175\n",
       "1354   1.71    -6.720034\n",
       "1355   1.99    -6.719836\n",
       "1356   1.99    -6.707297\n",
       "\n",
       "[271 rows x 2 columns]"
      ]
     },
     "execution_count": 35,
     "metadata": {},
     "output_type": "execute_result"
    }
   ],
   "source": [
    "#Show the valid and predicted prices\n",
    "valid"
   ]
  }
 ],
 "metadata": {
  "colab": {
   "authorship_tag": "ABX9TyP5V9+zYTflGfnalacclc2u",
   "name": "Binance Coin(SCAAI).ipynb",
   "provenance": []
  },
  "kernelspec": {
   "display_name": "Python 3",
   "language": "python",
   "name": "python3"
  },
  "language_info": {
   "codemirror_mode": {
    "name": "ipython",
    "version": 3
   },
   "file_extension": ".py",
   "mimetype": "text/x-python",
   "name": "python",
   "nbconvert_exporter": "python",
   "pygments_lexer": "ipython3",
   "version": "3.8.3"
  }
 },
 "nbformat": 4,
 "nbformat_minor": 1
}
